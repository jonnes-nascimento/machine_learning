{
  "nbformat": 4,
  "nbformat_minor": 0,
  "metadata": {
    "colab": {
      "name": "Introdução a Machine Learning - Algoritmos Não Supervisionados - 1",
      "provenance": [],
      "authorship_tag": "ABX9TyN1ItHsuR7AkpUj2RMhSsbC",
      "include_colab_link": true
    },
    "kernelspec": {
      "name": "python3",
      "display_name": "Python 3"
    }
  },
  "cells": [
    {
      "cell_type": "markdown",
      "metadata": {
        "id": "view-in-github",
        "colab_type": "text"
      },
      "source": [
        "<a href=\"https://colab.research.google.com/github/jonnes-nascimento/machine_learning/blob/master/Introdu%C3%A7%C3%A3o_a_Machine_Learning_Algoritmos_N%C3%A3o_Supervisionados_1.ipynb\" target=\"_parent\"><img src=\"https://colab.research.google.com/assets/colab-badge.svg\" alt=\"Open In Colab\"/></a>"
      ]
    },
    {
      "cell_type": "markdown",
      "metadata": {
        "id": "ejehvFid6NsB",
        "colab_type": "text"
      },
      "source": [
        "# Importando o dataset e renomeando as colunas"
      ]
    },
    {
      "cell_type": "code",
      "metadata": {
        "id": "7g-no5qs0VCS",
        "colab_type": "code",
        "outputId": "0cfca55b-685f-4d75-ac26-85849814be87",
        "colab": {
          "base_uri": "https://localhost:8080/",
          "height": 206
        }
      },
      "source": [
        "import pandas as pd\n",
        "\n",
        "# importando o dataset\n",
        "uri_filmes = 'https://raw.githubusercontent.com/oyurimatheus/clusterirng/master/movies/movies.csv'\n",
        "\n",
        "filmes = pd.read_csv(uri_filmes)\n",
        "\n",
        "# renomeando as colunas\n",
        "filmes.columns = ['filme_id', 'titulo', 'generos']\n",
        "\n",
        "filmes.head()"
      ],
      "execution_count": 2,
      "outputs": [
        {
          "output_type": "execute_result",
          "data": {
            "text/html": [
              "<div>\n",
              "<style scoped>\n",
              "    .dataframe tbody tr th:only-of-type {\n",
              "        vertical-align: middle;\n",
              "    }\n",
              "\n",
              "    .dataframe tbody tr th {\n",
              "        vertical-align: top;\n",
              "    }\n",
              "\n",
              "    .dataframe thead th {\n",
              "        text-align: right;\n",
              "    }\n",
              "</style>\n",
              "<table border=\"1\" class=\"dataframe\">\n",
              "  <thead>\n",
              "    <tr style=\"text-align: right;\">\n",
              "      <th></th>\n",
              "      <th>filme_id</th>\n",
              "      <th>titulo</th>\n",
              "      <th>generos</th>\n",
              "    </tr>\n",
              "  </thead>\n",
              "  <tbody>\n",
              "    <tr>\n",
              "      <th>0</th>\n",
              "      <td>1</td>\n",
              "      <td>Toy Story (1995)</td>\n",
              "      <td>Adventure|Animation|Children|Comedy|Fantasy</td>\n",
              "    </tr>\n",
              "    <tr>\n",
              "      <th>1</th>\n",
              "      <td>2</td>\n",
              "      <td>Jumanji (1995)</td>\n",
              "      <td>Adventure|Children|Fantasy</td>\n",
              "    </tr>\n",
              "    <tr>\n",
              "      <th>2</th>\n",
              "      <td>3</td>\n",
              "      <td>Grumpier Old Men (1995)</td>\n",
              "      <td>Comedy|Romance</td>\n",
              "    </tr>\n",
              "    <tr>\n",
              "      <th>3</th>\n",
              "      <td>4</td>\n",
              "      <td>Waiting to Exhale (1995)</td>\n",
              "      <td>Comedy|Drama|Romance</td>\n",
              "    </tr>\n",
              "    <tr>\n",
              "      <th>4</th>\n",
              "      <td>5</td>\n",
              "      <td>Father of the Bride Part II (1995)</td>\n",
              "      <td>Comedy</td>\n",
              "    </tr>\n",
              "  </tbody>\n",
              "</table>\n",
              "</div>"
            ],
            "text/plain": [
              "   filme_id  ...                                      generos\n",
              "0         1  ...  Adventure|Animation|Children|Comedy|Fantasy\n",
              "1         2  ...                   Adventure|Children|Fantasy\n",
              "2         3  ...                               Comedy|Romance\n",
              "3         4  ...                         Comedy|Drama|Romance\n",
              "4         5  ...                                       Comedy\n",
              "\n",
              "[5 rows x 3 columns]"
            ]
          },
          "metadata": {
            "tags": []
          },
          "execution_count": 2
        }
      ]
    },
    {
      "cell_type": "markdown",
      "metadata": {
        "id": "NJQo0KRI6UDx",
        "colab_type": "text"
      },
      "source": [
        "# Extraindo as variáveis categóricas (dummies) de gênero dos filmes"
      ]
    },
    {
      "cell_type": "code",
      "metadata": {
        "id": "vRJgQhAQ6M15",
        "colab_type": "code",
        "outputId": "608c12e1-a0a7-48ad-bb1c-0036b5800678",
        "colab": {
          "base_uri": "https://localhost:8080/",
          "height": 417
        }
      },
      "source": [
        "# Como se pode ver, na coluna 'generos' temos uma string listando vários os vários gêneros ao qual determinado filme pertence.\n",
        "# O que faremos aqui é extrair esses gêneros em colunas e marcá-las de forma binária se o filme segue ou não determinado gênero.\n",
        "generos = filmes.generos.str.get_dummies()\n",
        "\n",
        "# Contatenamos os dataframes de filmes e o novo, de generos, para formar uma única base de dados\n",
        "dados_dos_filmes = pd.concat([filmes, generos], axis='columns')\n",
        "\n",
        "dados_dos_filmes.head()"
      ],
      "execution_count": 3,
      "outputs": [
        {
          "output_type": "execute_result",
          "data": {
            "text/html": [
              "<div>\n",
              "<style scoped>\n",
              "    .dataframe tbody tr th:only-of-type {\n",
              "        vertical-align: middle;\n",
              "    }\n",
              "\n",
              "    .dataframe tbody tr th {\n",
              "        vertical-align: top;\n",
              "    }\n",
              "\n",
              "    .dataframe thead th {\n",
              "        text-align: right;\n",
              "    }\n",
              "</style>\n",
              "<table border=\"1\" class=\"dataframe\">\n",
              "  <thead>\n",
              "    <tr style=\"text-align: right;\">\n",
              "      <th></th>\n",
              "      <th>filme_id</th>\n",
              "      <th>titulo</th>\n",
              "      <th>generos</th>\n",
              "      <th>(no genres listed)</th>\n",
              "      <th>Action</th>\n",
              "      <th>Adventure</th>\n",
              "      <th>Animation</th>\n",
              "      <th>Children</th>\n",
              "      <th>Comedy</th>\n",
              "      <th>Crime</th>\n",
              "      <th>Documentary</th>\n",
              "      <th>Drama</th>\n",
              "      <th>Fantasy</th>\n",
              "      <th>Film-Noir</th>\n",
              "      <th>Horror</th>\n",
              "      <th>IMAX</th>\n",
              "      <th>Musical</th>\n",
              "      <th>Mystery</th>\n",
              "      <th>Romance</th>\n",
              "      <th>Sci-Fi</th>\n",
              "      <th>Thriller</th>\n",
              "      <th>War</th>\n",
              "      <th>Western</th>\n",
              "    </tr>\n",
              "  </thead>\n",
              "  <tbody>\n",
              "    <tr>\n",
              "      <th>0</th>\n",
              "      <td>1</td>\n",
              "      <td>Toy Story (1995)</td>\n",
              "      <td>Adventure|Animation|Children|Comedy|Fantasy</td>\n",
              "      <td>0</td>\n",
              "      <td>0</td>\n",
              "      <td>1</td>\n",
              "      <td>1</td>\n",
              "      <td>1</td>\n",
              "      <td>1</td>\n",
              "      <td>0</td>\n",
              "      <td>0</td>\n",
              "      <td>0</td>\n",
              "      <td>1</td>\n",
              "      <td>0</td>\n",
              "      <td>0</td>\n",
              "      <td>0</td>\n",
              "      <td>0</td>\n",
              "      <td>0</td>\n",
              "      <td>0</td>\n",
              "      <td>0</td>\n",
              "      <td>0</td>\n",
              "      <td>0</td>\n",
              "      <td>0</td>\n",
              "    </tr>\n",
              "    <tr>\n",
              "      <th>1</th>\n",
              "      <td>2</td>\n",
              "      <td>Jumanji (1995)</td>\n",
              "      <td>Adventure|Children|Fantasy</td>\n",
              "      <td>0</td>\n",
              "      <td>0</td>\n",
              "      <td>1</td>\n",
              "      <td>0</td>\n",
              "      <td>1</td>\n",
              "      <td>0</td>\n",
              "      <td>0</td>\n",
              "      <td>0</td>\n",
              "      <td>0</td>\n",
              "      <td>1</td>\n",
              "      <td>0</td>\n",
              "      <td>0</td>\n",
              "      <td>0</td>\n",
              "      <td>0</td>\n",
              "      <td>0</td>\n",
              "      <td>0</td>\n",
              "      <td>0</td>\n",
              "      <td>0</td>\n",
              "      <td>0</td>\n",
              "      <td>0</td>\n",
              "    </tr>\n",
              "    <tr>\n",
              "      <th>2</th>\n",
              "      <td>3</td>\n",
              "      <td>Grumpier Old Men (1995)</td>\n",
              "      <td>Comedy|Romance</td>\n",
              "      <td>0</td>\n",
              "      <td>0</td>\n",
              "      <td>0</td>\n",
              "      <td>0</td>\n",
              "      <td>0</td>\n",
              "      <td>1</td>\n",
              "      <td>0</td>\n",
              "      <td>0</td>\n",
              "      <td>0</td>\n",
              "      <td>0</td>\n",
              "      <td>0</td>\n",
              "      <td>0</td>\n",
              "      <td>0</td>\n",
              "      <td>0</td>\n",
              "      <td>0</td>\n",
              "      <td>1</td>\n",
              "      <td>0</td>\n",
              "      <td>0</td>\n",
              "      <td>0</td>\n",
              "      <td>0</td>\n",
              "    </tr>\n",
              "    <tr>\n",
              "      <th>3</th>\n",
              "      <td>4</td>\n",
              "      <td>Waiting to Exhale (1995)</td>\n",
              "      <td>Comedy|Drama|Romance</td>\n",
              "      <td>0</td>\n",
              "      <td>0</td>\n",
              "      <td>0</td>\n",
              "      <td>0</td>\n",
              "      <td>0</td>\n",
              "      <td>1</td>\n",
              "      <td>0</td>\n",
              "      <td>0</td>\n",
              "      <td>1</td>\n",
              "      <td>0</td>\n",
              "      <td>0</td>\n",
              "      <td>0</td>\n",
              "      <td>0</td>\n",
              "      <td>0</td>\n",
              "      <td>0</td>\n",
              "      <td>1</td>\n",
              "      <td>0</td>\n",
              "      <td>0</td>\n",
              "      <td>0</td>\n",
              "      <td>0</td>\n",
              "    </tr>\n",
              "    <tr>\n",
              "      <th>4</th>\n",
              "      <td>5</td>\n",
              "      <td>Father of the Bride Part II (1995)</td>\n",
              "      <td>Comedy</td>\n",
              "      <td>0</td>\n",
              "      <td>0</td>\n",
              "      <td>0</td>\n",
              "      <td>0</td>\n",
              "      <td>0</td>\n",
              "      <td>1</td>\n",
              "      <td>0</td>\n",
              "      <td>0</td>\n",
              "      <td>0</td>\n",
              "      <td>0</td>\n",
              "      <td>0</td>\n",
              "      <td>0</td>\n",
              "      <td>0</td>\n",
              "      <td>0</td>\n",
              "      <td>0</td>\n",
              "      <td>0</td>\n",
              "      <td>0</td>\n",
              "      <td>0</td>\n",
              "      <td>0</td>\n",
              "      <td>0</td>\n",
              "    </tr>\n",
              "  </tbody>\n",
              "</table>\n",
              "</div>"
            ],
            "text/plain": [
              "   filme_id                              titulo  ... War  Western\n",
              "0         1                    Toy Story (1995)  ...   0        0\n",
              "1         2                      Jumanji (1995)  ...   0        0\n",
              "2         3             Grumpier Old Men (1995)  ...   0        0\n",
              "3         4            Waiting to Exhale (1995)  ...   0        0\n",
              "4         5  Father of the Bride Part II (1995)  ...   0        0\n",
              "\n",
              "[5 rows x 23 columns]"
            ]
          },
          "metadata": {
            "tags": []
          },
          "execution_count": 3
        }
      ]
    },
    {
      "cell_type": "markdown",
      "metadata": {
        "id": "ioAVteHO9_fu",
        "colab_type": "text"
      },
      "source": [
        "# Reescalando os dados de gêneros\n"
      ]
    },
    {
      "cell_type": "code",
      "metadata": {
        "id": "vW7lrMZk7heO",
        "colab_type": "code",
        "outputId": "63495c79-0dc3-4b90-833f-76093753b125",
        "colab": {
          "base_uri": "https://localhost:8080/",
          "height": 347
        }
      },
      "source": [
        "# O reescalamento dos dados nos dizem quais generos mais influenciam determinado filme\n",
        "from sklearn.preprocessing import StandardScaler\n",
        "\n",
        "scaler = StandardScaler()\n",
        "generos_escalados = scaler.fit_transform(generos)\n",
        "\n",
        "print(generos.columns)\n",
        "print(generos_escalados)\n",
        "print(generos_escalados.shape)"
      ],
      "execution_count": 16,
      "outputs": [
        {
          "output_type": "stream",
          "text": [
            "Index(['(no genres listed)', 'Action', 'Adventure', 'Animation', 'Children',\n",
            "       'Comedy', 'Crime', 'Documentary', 'Drama', 'Fantasy', 'Film-Noir',\n",
            "       'Horror', 'IMAX', 'Musical', 'Mystery', 'Romance', 'Sci-Fi', 'Thriller',\n",
            "       'War', 'Western'],\n",
            "      dtype='object')\n",
            "[[-0.05917995 -0.48060698  2.59101927 ... -0.49125897 -0.20201972\n",
            "  -0.13206534]\n",
            " [-0.05917995 -0.48060698  2.59101927 ... -0.49125897 -0.20201972\n",
            "  -0.13206534]\n",
            " [-0.05917995 -0.48060698 -0.3859485  ... -0.49125897 -0.20201972\n",
            "  -0.13206534]\n",
            " ...\n",
            " [-0.05917995 -0.48060698 -0.3859485  ... -0.49125897 -0.20201972\n",
            "  -0.13206534]\n",
            " [-0.05917995  2.0807022  -0.3859485  ... -0.49125897 -0.20201972\n",
            "  -0.13206534]\n",
            " [-0.05917995 -0.48060698 -0.3859485  ... -0.49125897 -0.20201972\n",
            "  -0.13206534]]\n",
            "(9742, 20)\n"
          ],
          "name": "stdout"
        }
      ]
    },
    {
      "cell_type": "markdown",
      "metadata": {
        "id": "owaYY0xgxE6Y",
        "colab_type": "text"
      },
      "source": [
        "# Agrupando os filmes por categorias com o KMeans"
      ]
    },
    {
      "cell_type": "code",
      "metadata": {
        "id": "u2kYVHf2vdVP",
        "colab_type": "code",
        "outputId": "5ad7273d-274f-4cee-a119-f9be3f010876",
        "colab": {
          "base_uri": "https://localhost:8080/",
          "height": 34
        }
      },
      "source": [
        "# este é um excelente site que exibe, de forma interativa, o funcionamento dos algoritmos de clusterização do KMeans\n",
        "# https://www.naftaliharris.com/blog/visualizing-k-means-clustering/\n",
        "\n",
        "from sklearn.cluster import KMeans\n",
        "\n",
        "modelo = KMeans(n_clusters=3)\n",
        "modelo.fit(generos_escalados)\n",
        "\n",
        "print('Grupos {}'.format(modelo.labels_))"
      ],
      "execution_count": 21,
      "outputs": [
        {
          "output_type": "stream",
          "text": [
            "Grupos [0 0 1 ... 1 0 1]\n"
          ],
          "name": "stdout"
        }
      ]
    },
    {
      "cell_type": "code",
      "metadata": {
        "id": "5RNQrA309x88",
        "colab_type": "code",
        "colab": {
          "base_uri": "https://localhost:8080/",
          "height": 555
        },
        "outputId": "2c560f18-c06c-4e7a-9161-403ccf0129bd"
      },
      "source": [
        "print(generos)\n",
        "print(generos.columns)\n",
        "print(modelo.cluster_centers_)"
      ],
      "execution_count": 25,
      "outputs": [
        {
          "output_type": "stream",
          "text": [
            "      (no genres listed)  Action  Adventure  ...  Thriller  War  Western\n",
            "0                      0       0          1  ...         0    0        0\n",
            "1                      0       0          1  ...         0    0        0\n",
            "2                      0       0          0  ...         0    0        0\n",
            "3                      0       0          0  ...         0    0        0\n",
            "4                      0       0          0  ...         0    0        0\n",
            "...                  ...     ...        ...  ...       ...  ...      ...\n",
            "9737                   0       1          0  ...         0    0        0\n",
            "9738                   0       0          0  ...         0    0        0\n",
            "9739                   0       0          0  ...         0    0        0\n",
            "9740                   0       1          0  ...         0    0        0\n",
            "9741                   0       0          0  ...         0    0        0\n",
            "\n",
            "[9742 rows x 20 columns]\n",
            "Index(['(no genres listed)', 'Action', 'Adventure', 'Animation', 'Children',\n",
            "       'Comedy', 'Crime', 'Documentary', 'Drama', 'Fantasy', 'Film-Noir',\n",
            "       'Horror', 'IMAX', 'Musical', 'Mystery', 'Romance', 'Sci-Fi', 'Thriller',\n",
            "       'War', 'Western'],\n",
            "      dtype='object')\n",
            "[[-0.05917995  0.24470036  1.15663919  1.80878647  1.93994264  0.11270987\n",
            "  -0.31287833 -0.21748944 -0.59595378  1.21669548 -0.08594043 -0.24967044\n",
            "   0.58096391  0.2900775  -0.12064794 -0.26449022  0.25291258 -0.39514059\n",
            "  -0.16717927 -0.08647909]\n",
            " [ 0.01183016 -0.01087064 -0.14981508 -0.25105912 -0.26849631  0.01638351\n",
            "   0.06401692 -0.21748944  0.13017351 -0.16221309  0.01766656  0.05366292\n",
            "  -0.08549322 -0.04085503  0.03008007  0.06186069 -0.01872697  0.08357576\n",
            "   0.02769274  0.0188089 ]\n",
            " [-0.05917995 -0.45732235 -0.34535349 -0.23055776 -0.2614331  -0.60534892\n",
            "  -0.34004158  4.59792443 -0.79969405 -0.27805158 -0.09492563 -0.31892988\n",
            "   0.01554358 -0.02604479 -0.23066726 -0.43035237 -0.33443476 -0.47977331\n",
            "  -0.06150976 -0.11455608]]\n"
          ],
          "name": "stdout"
        }
      ]
    },
    {
      "cell_type": "code",
      "metadata": {
        "id": "6um57p0eFfY7",
        "colab_type": "code",
        "colab": {
          "base_uri": "https://localhost:8080/",
          "height": 198
        },
        "outputId": "f3d3243e-1c1b-42c6-8740-4ed350db00dd"
      },
      "source": [
        "# transforma a array dos centros dos centroids em um dataframe do pandas para melhor visuzalizacao e manipulacao\n",
        "\n",
        "grupos = pd.DataFrame(modelo.cluster_centers_, columns=generos.columns)\n",
        "\n",
        "grupos\n",
        "\n",
        "# temos uma tabela com tres linhas e 20 colunas, ou seja, 3 grupos e 20 generos em cada grupo"
      ],
      "execution_count": 26,
      "outputs": [
        {
          "output_type": "execute_result",
          "data": {
            "text/html": [
              "<div>\n",
              "<style scoped>\n",
              "    .dataframe tbody tr th:only-of-type {\n",
              "        vertical-align: middle;\n",
              "    }\n",
              "\n",
              "    .dataframe tbody tr th {\n",
              "        vertical-align: top;\n",
              "    }\n",
              "\n",
              "    .dataframe thead th {\n",
              "        text-align: right;\n",
              "    }\n",
              "</style>\n",
              "<table border=\"1\" class=\"dataframe\">\n",
              "  <thead>\n",
              "    <tr style=\"text-align: right;\">\n",
              "      <th></th>\n",
              "      <th>(no genres listed)</th>\n",
              "      <th>Action</th>\n",
              "      <th>Adventure</th>\n",
              "      <th>Animation</th>\n",
              "      <th>Children</th>\n",
              "      <th>Comedy</th>\n",
              "      <th>Crime</th>\n",
              "      <th>Documentary</th>\n",
              "      <th>Drama</th>\n",
              "      <th>Fantasy</th>\n",
              "      <th>Film-Noir</th>\n",
              "      <th>Horror</th>\n",
              "      <th>IMAX</th>\n",
              "      <th>Musical</th>\n",
              "      <th>Mystery</th>\n",
              "      <th>Romance</th>\n",
              "      <th>Sci-Fi</th>\n",
              "      <th>Thriller</th>\n",
              "      <th>War</th>\n",
              "      <th>Western</th>\n",
              "    </tr>\n",
              "  </thead>\n",
              "  <tbody>\n",
              "    <tr>\n",
              "      <th>0</th>\n",
              "      <td>-0.05918</td>\n",
              "      <td>0.244700</td>\n",
              "      <td>1.156639</td>\n",
              "      <td>1.808786</td>\n",
              "      <td>1.939943</td>\n",
              "      <td>0.112710</td>\n",
              "      <td>-0.312878</td>\n",
              "      <td>-0.217489</td>\n",
              "      <td>-0.595954</td>\n",
              "      <td>1.216695</td>\n",
              "      <td>-0.085940</td>\n",
              "      <td>-0.249670</td>\n",
              "      <td>0.580964</td>\n",
              "      <td>0.290077</td>\n",
              "      <td>-0.120648</td>\n",
              "      <td>-0.264490</td>\n",
              "      <td>0.252913</td>\n",
              "      <td>-0.395141</td>\n",
              "      <td>-0.167179</td>\n",
              "      <td>-0.086479</td>\n",
              "    </tr>\n",
              "    <tr>\n",
              "      <th>1</th>\n",
              "      <td>0.01183</td>\n",
              "      <td>-0.010871</td>\n",
              "      <td>-0.149815</td>\n",
              "      <td>-0.251059</td>\n",
              "      <td>-0.268496</td>\n",
              "      <td>0.016384</td>\n",
              "      <td>0.064017</td>\n",
              "      <td>-0.217489</td>\n",
              "      <td>0.130174</td>\n",
              "      <td>-0.162213</td>\n",
              "      <td>0.017667</td>\n",
              "      <td>0.053663</td>\n",
              "      <td>-0.085493</td>\n",
              "      <td>-0.040855</td>\n",
              "      <td>0.030080</td>\n",
              "      <td>0.061861</td>\n",
              "      <td>-0.018727</td>\n",
              "      <td>0.083576</td>\n",
              "      <td>0.027693</td>\n",
              "      <td>0.018809</td>\n",
              "    </tr>\n",
              "    <tr>\n",
              "      <th>2</th>\n",
              "      <td>-0.05918</td>\n",
              "      <td>-0.457322</td>\n",
              "      <td>-0.345353</td>\n",
              "      <td>-0.230558</td>\n",
              "      <td>-0.261433</td>\n",
              "      <td>-0.605349</td>\n",
              "      <td>-0.340042</td>\n",
              "      <td>4.597924</td>\n",
              "      <td>-0.799694</td>\n",
              "      <td>-0.278052</td>\n",
              "      <td>-0.094926</td>\n",
              "      <td>-0.318930</td>\n",
              "      <td>0.015544</td>\n",
              "      <td>-0.026045</td>\n",
              "      <td>-0.230667</td>\n",
              "      <td>-0.430352</td>\n",
              "      <td>-0.334435</td>\n",
              "      <td>-0.479773</td>\n",
              "      <td>-0.061510</td>\n",
              "      <td>-0.114556</td>\n",
              "    </tr>\n",
              "  </tbody>\n",
              "</table>\n",
              "</div>"
            ],
            "text/plain": [
              "   (no genres listed)    Action  Adventure  ...  Thriller       War   Western\n",
              "0            -0.05918  0.244700   1.156639  ... -0.395141 -0.167179 -0.086479\n",
              "1             0.01183 -0.010871  -0.149815  ...  0.083576  0.027693  0.018809\n",
              "2            -0.05918 -0.457322  -0.345353  ... -0.479773 -0.061510 -0.114556\n",
              "\n",
              "[3 rows x 20 columns]"
            ]
          },
          "metadata": {
            "tags": []
          },
          "execution_count": 26
        }
      ]
    },
    {
      "cell_type": "markdown",
      "metadata": {
        "id": "yloQHgSVHzS3",
        "colab_type": "text"
      },
      "source": [
        "# Análise gráfica dos grupos"
      ]
    },
    {
      "cell_type": "code",
      "metadata": {
        "id": "56EPTk_ZGqol",
        "colab_type": "code",
        "colab": {
          "base_uri": "https://localhost:8080/",
          "height": 1000
        },
        "outputId": "03659ba5-f966-4d00-9063-b84065766acd"
      },
      "source": [
        "grupos.plot.bar(figsize=(25, 25))"
      ],
      "execution_count": 31,
      "outputs": [
        {
          "output_type": "execute_result",
          "data": {
            "text/plain": [
              "<matplotlib.axes._subplots.AxesSubplot at 0x7f0443c54c50>"
            ]
          },
          "metadata": {
            "tags": []
          },
          "execution_count": 31
        },
        {
          "output_type": "display_data",
          "data": {
            "image/png": "[encoded data removed]",
            "text/plain": [
              "<Figure size 1800x1800 with 1 Axes>"
            ]
          },
          "metadata": {
            "tags": []
          }
        }
      ]
    },
    {
      "cell_type": "code",
      "metadata": {
        "id": "ASPMvP01Hvgh",
        "colab_type": "code",
        "colab": {
          "base_uri": "https://localhost:8080/",
          "height": 1000
        },
        "outputId": "24618490-d273-44c5-b18c-eabe91edd016"
      },
      "source": [
        "grupos.plot.bar(subplots=True, figsize=(25, 25), sharex=False)"
      ],
      "execution_count": 33,
      "outputs": [
        {
          "output_type": "execute_result",
          "data": {
            "text/plain": [
              "array([<matplotlib.axes._subplots.AxesSubplot object at 0x7f044348ed30>,\n",
              "       <matplotlib.axes._subplots.AxesSubplot object at 0x7f044334f1d0>,\n",
              "       <matplotlib.axes._subplots.AxesSubplot object at 0x7f0443370320>,\n",
              "       <matplotlib.axes._subplots.AxesSubplot object at 0x7f0443324470>,\n",
              "       <matplotlib.axes._subplots.AxesSubplot object at 0x7f04432d85c0>,\n",
              "       <matplotlib.axes._subplots.AxesSubplot object at 0x7f044328aa58>,\n",
              "       <matplotlib.axes._subplots.AxesSubplot object at 0x7f0443395a58>,\n",
              "       <matplotlib.axes._subplots.AxesSubplot object at 0x7f044326e080>,\n",
              "       <matplotlib.axes._subplots.AxesSubplot object at 0x7f044326e0b8>,\n",
              "       <matplotlib.axes._subplots.AxesSubplot object at 0x7f04431cdba8>,\n",
              "       <matplotlib.axes._subplots.AxesSubplot object at 0x7f044318c198>,\n",
              "       <matplotlib.axes._subplots.AxesSubplot object at 0x7f04431bc748>,\n",
              "       <matplotlib.axes._subplots.AxesSubplot object at 0x7f0443170cf8>,\n",
              "       <matplotlib.axes._subplots.AxesSubplot object at 0x7f044312c2e8>,\n",
              "       <matplotlib.axes._subplots.AxesSubplot object at 0x7f04430df898>,\n",
              "       <matplotlib.axes._subplots.AxesSubplot object at 0x7f044308fe48>,\n",
              "       <matplotlib.axes._subplots.AxesSubplot object at 0x7f044304c438>,\n",
              "       <matplotlib.axes._subplots.AxesSubplot object at 0x7f044307f9e8>,\n",
              "       <matplotlib.axes._subplots.AxesSubplot object at 0x7f044302ef98>,\n",
              "       <matplotlib.axes._subplots.AxesSubplot object at 0x7f0442fec588>],\n",
              "      dtype=object)"
            ]
          },
          "metadata": {
            "tags": []
          },
          "execution_count": 33
        },
        {
          "output_type": "display_data",
          "data": {
            "image/png": "[encoded data removed]",
            "text/plain": [
              "<Figure size 1800x1800 with 20 Axes>"
            ]
          },
          "metadata": {
            "tags": []
          }
        }
      ]
    },
    {
      "cell_type": "code",
      "metadata": {
        "id": "C-WVy6nnH6fv",
        "colab_type": "code",
        "colab": {
          "base_uri": "https://localhost:8080/",
          "height": 1000
        },
        "outputId": "a791b7d8-0715-4b55-b907-75654c228544"
      },
      "source": [
        "# No grafico acima, criamos os subplots em generos e nao em grupos.\n",
        "# Resolvemos isso transpondo a matriz de grupos.\n",
        "# Dessa forma, visualizamos de uma forma melhor quais categorias tem mais peso em cada um dos grupos. \n",
        "grupos.transpose().plot.bar(subplots=True, figsize=(25, 25), sharex=False)"
      ],
      "execution_count": 35,
      "outputs": [
        {
          "output_type": "execute_result",
          "data": {
            "text/plain": [
              "array([<matplotlib.axes._subplots.AxesSubplot object at 0x7f0442ce5b00>,\n",
              "       <matplotlib.axes._subplots.AxesSubplot object at 0x7f0442d0c5f8>,\n",
              "       <matplotlib.axes._subplots.AxesSubplot object at 0x7f0442ca5e80>],\n",
              "      dtype=object)"
            ]
          },
          "metadata": {
            "tags": []
          },
          "execution_count": 35
        },
        {
          "output_type": "display_data",
          "data": {
            "image/png": "[encoded data removed]",
            "text/plain": [
              "<Figure size 1800x1800 with 3 Axes>"
            ]
          },
          "metadata": {
            "tags": []
          }
        }
      ]
    },
    {
      "cell_type": "markdown",
      "metadata": {
        "id": "5jqTKwAlJhvT",
        "colab_type": "text"
      },
      "source": [
        "# Filtrando os filmes pelos grupos gerados pelo KMeans, para análise"
      ]
    },
    {
      "cell_type": "code",
      "metadata": {
        "id": "c5BEsyoII2gC",
        "colab_type": "code",
        "colab": {
          "base_uri": "https://localhost:8080/",
          "height": 1000
        },
        "outputId": "875840a7-c5d2-4c33-82f9-a9d381336477"
      },
      "source": [
        "# Analisaremos, por exemplo, o grupo 0. Pelo grafico acima, vemos que os generos animacao, aventura, infantil e fantasia tem um peso maior.\n",
        "# Vamos filtrar quais filmes o algoritmo do K-Means separou nesse grupo e ver se esses filmes estao mesmo de acordo.\n",
        "grupo = 0\n",
        "\n",
        "filtro = modelo.labels_ == grupo # do modelo do KMeans, marca como True todos os filmes que pertencem ao grupo 0 e retorna a array\n",
        "\n",
        "print(filtro) # esse array contem um True para cada linha que pertence ao grupo 0\n",
        "print(dados_dos_filmes)\n",
        "\n",
        "dados_dos_filmes[filtro].sample(10) # traz somente as linhas marcadas como True, em uma amostra de 10 registros\n",
        "\n",
        "# Esse filtro seria util no caso de, por exemplo, queremos indicar um novo filme a alguem que tenha assistido a um documentario da Discovery.\n",
        "# Bastaria aplicarmos o filtro grupo=2 aos dados_dos_filmes, selecionar alguns dos registros do resultado e exibir ao telespectador."
      ],
      "execution_count": 40,
      "outputs": [
        {
          "output_type": "stream",
          "text": [
            "[ True  True False ... False  True False]\n",
            "      filme_id                                     titulo  ... War  Western\n",
            "0            1                           Toy Story (1995)  ...   0        0\n",
            "1            2                             Jumanji (1995)  ...   0        0\n",
            "2            3                    Grumpier Old Men (1995)  ...   0        0\n",
            "3            4                   Waiting to Exhale (1995)  ...   0        0\n",
            "4            5         Father of the Bride Part II (1995)  ...   0        0\n",
            "...        ...                                        ...  ...  ..      ...\n",
            "9737    193581  Black Butler: Book of the Atlantic (2017)  ...   0        0\n",
            "9738    193583               No Game No Life: Zero (2017)  ...   0        0\n",
            "9739    193585                               Flint (2017)  ...   0        0\n",
            "9740    193587        Bungo Stray Dogs: Dead Apple (2018)  ...   0        0\n",
            "9741    193609        Andrew Dice Clay: Dice Rules (1991)  ...   0        0\n",
            "\n",
            "[9742 rows x 23 columns]\n"
          ],
          "name": "stdout"
        },
        {
          "output_type": "execute_result",
          "data": {
            "text/html": [
              "<div>\n",
              "<style scoped>\n",
              "    .dataframe tbody tr th:only-of-type {\n",
              "        vertical-align: middle;\n",
              "    }\n",
              "\n",
              "    .dataframe tbody tr th {\n",
              "        vertical-align: top;\n",
              "    }\n",
              "\n",
              "    .dataframe thead th {\n",
              "        text-align: right;\n",
              "    }\n",
              "</style>\n",
              "<table border=\"1\" class=\"dataframe\">\n",
              "  <thead>\n",
              "    <tr style=\"text-align: right;\">\n",
              "      <th></th>\n",
              "      <th>filme_id</th>\n",
              "      <th>titulo</th>\n",
              "      <th>generos</th>\n",
              "      <th>(no genres listed)</th>\n",
              "      <th>Action</th>\n",
              "      <th>Adventure</th>\n",
              "      <th>Animation</th>\n",
              "      <th>Children</th>\n",
              "      <th>Comedy</th>\n",
              "      <th>Crime</th>\n",
              "      <th>Documentary</th>\n",
              "      <th>Drama</th>\n",
              "      <th>Fantasy</th>\n",
              "      <th>Film-Noir</th>\n",
              "      <th>Horror</th>\n",
              "      <th>IMAX</th>\n",
              "      <th>Musical</th>\n",
              "      <th>Mystery</th>\n",
              "      <th>Romance</th>\n",
              "      <th>Sci-Fi</th>\n",
              "      <th>Thriller</th>\n",
              "      <th>War</th>\n",
              "      <th>Western</th>\n",
              "    </tr>\n",
              "  </thead>\n",
              "  <tbody>\n",
              "    <tr>\n",
              "      <th>1287</th>\n",
              "      <td>1713</td>\n",
              "      <td>Mouse Hunt (1997)</td>\n",
              "      <td>Children|Comedy</td>\n",
              "      <td>0</td>\n",
              "      <td>0</td>\n",
              "      <td>0</td>\n",
              "      <td>0</td>\n",
              "      <td>1</td>\n",
              "      <td>1</td>\n",
              "      <td>0</td>\n",
              "      <td>0</td>\n",
              "      <td>0</td>\n",
              "      <td>0</td>\n",
              "      <td>0</td>\n",
              "      <td>0</td>\n",
              "      <td>0</td>\n",
              "      <td>0</td>\n",
              "      <td>0</td>\n",
              "      <td>0</td>\n",
              "      <td>0</td>\n",
              "      <td>0</td>\n",
              "      <td>0</td>\n",
              "      <td>0</td>\n",
              "    </tr>\n",
              "    <tr>\n",
              "      <th>2182</th>\n",
              "      <td>2899</td>\n",
              "      <td>Gulliver's Travels (1939)</td>\n",
              "      <td>Adventure|Animation|Children</td>\n",
              "      <td>0</td>\n",
              "      <td>0</td>\n",
              "      <td>1</td>\n",
              "      <td>1</td>\n",
              "      <td>1</td>\n",
              "      <td>0</td>\n",
              "      <td>0</td>\n",
              "      <td>0</td>\n",
              "      <td>0</td>\n",
              "      <td>0</td>\n",
              "      <td>0</td>\n",
              "      <td>0</td>\n",
              "      <td>0</td>\n",
              "      <td>0</td>\n",
              "      <td>0</td>\n",
              "      <td>0</td>\n",
              "      <td>0</td>\n",
              "      <td>0</td>\n",
              "      <td>0</td>\n",
              "      <td>0</td>\n",
              "    </tr>\n",
              "    <tr>\n",
              "      <th>8676</th>\n",
              "      <td>122246</td>\n",
              "      <td>Tooth Fairy 2 (2012)</td>\n",
              "      <td>Children|Comedy</td>\n",
              "      <td>0</td>\n",
              "      <td>0</td>\n",
              "      <td>0</td>\n",
              "      <td>0</td>\n",
              "      <td>1</td>\n",
              "      <td>1</td>\n",
              "      <td>0</td>\n",
              "      <td>0</td>\n",
              "      <td>0</td>\n",
              "      <td>0</td>\n",
              "      <td>0</td>\n",
              "      <td>0</td>\n",
              "      <td>0</td>\n",
              "      <td>0</td>\n",
              "      <td>0</td>\n",
              "      <td>0</td>\n",
              "      <td>0</td>\n",
              "      <td>0</td>\n",
              "      <td>0</td>\n",
              "      <td>0</td>\n",
              "    </tr>\n",
              "    <tr>\n",
              "      <th>1507</th>\n",
              "      <td>2035</td>\n",
              "      <td>Blackbeard's Ghost (1968)</td>\n",
              "      <td>Children|Comedy</td>\n",
              "      <td>0</td>\n",
              "      <td>0</td>\n",
              "      <td>0</td>\n",
              "      <td>0</td>\n",
              "      <td>1</td>\n",
              "      <td>1</td>\n",
              "      <td>0</td>\n",
              "      <td>0</td>\n",
              "      <td>0</td>\n",
              "      <td>0</td>\n",
              "      <td>0</td>\n",
              "      <td>0</td>\n",
              "      <td>0</td>\n",
              "      <td>0</td>\n",
              "      <td>0</td>\n",
              "      <td>0</td>\n",
              "      <td>0</td>\n",
              "      <td>0</td>\n",
              "      <td>0</td>\n",
              "      <td>0</td>\n",
              "    </tr>\n",
              "    <tr>\n",
              "      <th>8841</th>\n",
              "      <td>132362</td>\n",
              "      <td>Patlabor 2: The Movie (1993)</td>\n",
              "      <td>Action|Animation|Sci-Fi</td>\n",
              "      <td>0</td>\n",
              "      <td>1</td>\n",
              "      <td>0</td>\n",
              "      <td>1</td>\n",
              "      <td>0</td>\n",
              "      <td>0</td>\n",
              "      <td>0</td>\n",
              "      <td>0</td>\n",
              "      <td>0</td>\n",
              "      <td>0</td>\n",
              "      <td>0</td>\n",
              "      <td>0</td>\n",
              "      <td>0</td>\n",
              "      <td>0</td>\n",
              "      <td>0</td>\n",
              "      <td>0</td>\n",
              "      <td>1</td>\n",
              "      <td>0</td>\n",
              "      <td>0</td>\n",
              "      <td>0</td>\n",
              "    </tr>\n",
              "    <tr>\n",
              "      <th>5490</th>\n",
              "      <td>26340</td>\n",
              "      <td>Twelve Tasks of Asterix, The (Les douze travau...</td>\n",
              "      <td>Action|Adventure|Animation|Children|Comedy|Fan...</td>\n",
              "      <td>0</td>\n",
              "      <td>1</td>\n",
              "      <td>1</td>\n",
              "      <td>1</td>\n",
              "      <td>1</td>\n",
              "      <td>1</td>\n",
              "      <td>0</td>\n",
              "      <td>0</td>\n",
              "      <td>0</td>\n",
              "      <td>1</td>\n",
              "      <td>0</td>\n",
              "      <td>0</td>\n",
              "      <td>0</td>\n",
              "      <td>0</td>\n",
              "      <td>0</td>\n",
              "      <td>0</td>\n",
              "      <td>0</td>\n",
              "      <td>0</td>\n",
              "      <td>0</td>\n",
              "      <td>0</td>\n",
              "    </tr>\n",
              "    <tr>\n",
              "      <th>6149</th>\n",
              "      <td>44022</td>\n",
              "      <td>Ice Age 2: The Meltdown (2006)</td>\n",
              "      <td>Adventure|Animation|Children|Comedy</td>\n",
              "      <td>0</td>\n",
              "      <td>0</td>\n",
              "      <td>1</td>\n",
              "      <td>1</td>\n",
              "      <td>1</td>\n",
              "      <td>1</td>\n",
              "      <td>0</td>\n",
              "      <td>0</td>\n",
              "      <td>0</td>\n",
              "      <td>0</td>\n",
              "      <td>0</td>\n",
              "      <td>0</td>\n",
              "      <td>0</td>\n",
              "      <td>0</td>\n",
              "      <td>0</td>\n",
              "      <td>0</td>\n",
              "      <td>0</td>\n",
              "      <td>0</td>\n",
              "      <td>0</td>\n",
              "      <td>0</td>\n",
              "    </tr>\n",
              "    <tr>\n",
              "      <th>8552</th>\n",
              "      <td>115819</td>\n",
              "      <td>Mr Hublot (2013)</td>\n",
              "      <td>Animation|Comedy</td>\n",
              "      <td>0</td>\n",
              "      <td>0</td>\n",
              "      <td>0</td>\n",
              "      <td>1</td>\n",
              "      <td>0</td>\n",
              "      <td>1</td>\n",
              "      <td>0</td>\n",
              "      <td>0</td>\n",
              "      <td>0</td>\n",
              "      <td>0</td>\n",
              "      <td>0</td>\n",
              "      <td>0</td>\n",
              "      <td>0</td>\n",
              "      <td>0</td>\n",
              "      <td>0</td>\n",
              "      <td>0</td>\n",
              "      <td>0</td>\n",
              "      <td>0</td>\n",
              "      <td>0</td>\n",
              "      <td>0</td>\n",
              "    </tr>\n",
              "    <tr>\n",
              "      <th>599</th>\n",
              "      <td>745</td>\n",
              "      <td>Wallace &amp; Gromit: A Close Shave (1995)</td>\n",
              "      <td>Animation|Children|Comedy</td>\n",
              "      <td>0</td>\n",
              "      <td>0</td>\n",
              "      <td>0</td>\n",
              "      <td>1</td>\n",
              "      <td>1</td>\n",
              "      <td>1</td>\n",
              "      <td>0</td>\n",
              "      <td>0</td>\n",
              "      <td>0</td>\n",
              "      <td>0</td>\n",
              "      <td>0</td>\n",
              "      <td>0</td>\n",
              "      <td>0</td>\n",
              "      <td>0</td>\n",
              "      <td>0</td>\n",
              "      <td>0</td>\n",
              "      <td>0</td>\n",
              "      <td>0</td>\n",
              "      <td>0</td>\n",
              "      <td>0</td>\n",
              "    </tr>\n",
              "    <tr>\n",
              "      <th>9237</th>\n",
              "      <td>153236</td>\n",
              "      <td>Genius Party (2007)</td>\n",
              "      <td>Animation</td>\n",
              "      <td>0</td>\n",
              "      <td>0</td>\n",
              "      <td>0</td>\n",
              "      <td>1</td>\n",
              "      <td>0</td>\n",
              "      <td>0</td>\n",
              "      <td>0</td>\n",
              "      <td>0</td>\n",
              "      <td>0</td>\n",
              "      <td>0</td>\n",
              "      <td>0</td>\n",
              "      <td>0</td>\n",
              "      <td>0</td>\n",
              "      <td>0</td>\n",
              "      <td>0</td>\n",
              "      <td>0</td>\n",
              "      <td>0</td>\n",
              "      <td>0</td>\n",
              "      <td>0</td>\n",
              "      <td>0</td>\n",
              "    </tr>\n",
              "  </tbody>\n",
              "</table>\n",
              "</div>"
            ],
            "text/plain": [
              "      filme_id                                             titulo  ... War  Western\n",
              "1287      1713                                  Mouse Hunt (1997)  ...   0        0\n",
              "2182      2899                          Gulliver's Travels (1939)  ...   0        0\n",
              "8676    122246                               Tooth Fairy 2 (2012)  ...   0        0\n",
              "1507      2035                          Blackbeard's Ghost (1968)  ...   0        0\n",
              "8841    132362                       Patlabor 2: The Movie (1993)  ...   0        0\n",
              "5490     26340  Twelve Tasks of Asterix, The (Les douze travau...  ...   0        0\n",
              "6149     44022                     Ice Age 2: The Meltdown (2006)  ...   0        0\n",
              "8552    115819                                   Mr Hublot (2013)  ...   0        0\n",
              "599        745             Wallace & Gromit: A Close Shave (1995)  ...   0        0\n",
              "9237    153236                                Genius Party (2007)  ...   0        0\n",
              "\n",
              "[10 rows x 23 columns]"
            ]
          },
          "metadata": {
            "tags": []
          },
          "execution_count": 40
        }
      ]
    },
    {
      "cell_type": "code",
      "metadata": {
        "id": "8huNV4mjLBPq",
        "colab_type": "code",
        "colab": {}
      },
      "source": [
        ""
      ],
      "execution_count": 0,
      "outputs": []
    }
  ]
}