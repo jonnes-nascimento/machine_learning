{
  "nbformat": 4,
  "nbformat_minor": 0,
  "metadata": {
    "colab": {
      "name": "Introdução a Machine Learning e Classificação - 2",
      "provenance": [],
      "authorship_tag": "ABX9TyOLgU631BAEQy+23WTK3WuP",
      "include_colab_link": true
    },
    "kernelspec": {
      "name": "python3",
      "display_name": "Python 3"
    }
  },
  "cells": [
    {
      "cell_type": "markdown",
      "metadata": {
        "id": "view-in-github",
        "colab_type": "text"
      },
      "source": [
        "<a href=\"https://colab.research.google.com/github/jonnes-nascimento/machine_learning/blob/master/Introdu%C3%A7%C3%A3o_a_Machine_Learning_e_Classifica%C3%A7%C3%A3o_2.ipynb\" target=\"_parent\"><img src=\"https://colab.research.google.com/assets/colab-badge.svg\" alt=\"Open In Colab\"/></a>"
      ]
    },
    {
      "cell_type": "code",
      "metadata": {
        "id": "ruKkQs9vSCcd",
        "colab_type": "code",
        "colab": {}
      },
      "source": [
        "# importa a biblioteca pandas e le o arquivo CSV disponibilizado na URI\n",
        "\n",
        "import pandas as pd\n",
        "\n",
        "uri='https://gist.githubusercontent.com/guilhermesilveira/2d2efa37d66b6c84a722ea627a897ced/raw/10968b997d885cbded1c92938c7a9912ba41c615/tracking.csv'\n",
        "dados = pd.read_csv(uri)\n"
      ],
      "execution_count": 0,
      "outputs": []
    },
    {
      "cell_type": "code",
      "metadata": {
        "id": "FoCMRWguVC1Z",
        "colab_type": "code",
        "colab": {
          "base_uri": "https://localhost:8080/",
          "height": 35
        },
        "outputId": "b14cc80a-e417-4759-a442-b82e9f2c5c3b"
      },
      "source": [
        "# renomeia as colunas para um melhor entendimento (opcional)\n",
        "\n",
        "mapa = {\n",
        "    'home' : 'principal',\n",
        "    'how_it_works' : 'como_funciona',\n",
        "    'contact' : 'contato',\n",
        "    'bought' : 'comprou'\n",
        "}\n",
        "\n",
        "dados = dados.rename(columns = mapa)\n",
        "\n",
        "print(dados.shape)"
      ],
      "execution_count": 15,
      "outputs": [
        {
          "output_type": "stream",
          "text": [
            "(99, 4)\n"
          ],
          "name": "stdout"
        }
      ]
    },
    {
      "cell_type": "code",
      "metadata": {
        "id": "sqXwd9qIWY1Y",
        "colab_type": "code",
        "colab": {
          "base_uri": "https://localhost:8080/",
          "height": 126
        },
        "outputId": "8b01bee2-cb76-453a-8e67-17c3396adc25"
      },
      "source": [
        "# como estamos lidando com uma base de dados unica, devemos separar os dados que serao usados como features e os dados usados resultados\n",
        "\n",
        "x = dados[['principal', 'como_funciona', 'contato']]\n",
        "y = dados['comprou']\n",
        "\n",
        "y.head()"
      ],
      "execution_count": 4,
      "outputs": [
        {
          "output_type": "execute_result",
          "data": {
            "text/plain": [
              "0    0\n",
              "1    0\n",
              "2    0\n",
              "3    0\n",
              "4    0\n",
              "Name: comprou, dtype: int64"
            ]
          },
          "metadata": {
            "tags": []
          },
          "execution_count": 4
        }
      ]
    },
    {
      "cell_type": "code",
      "metadata": {
        "id": "QHK0gb8EZV3h",
        "colab_type": "code",
        "colab": {
          "base_uri": "https://localhost:8080/",
          "height": 35
        },
        "outputId": "b6d9c517-4e1c-40aa-884a-86c847bc1912"
      },
      "source": [
        "# como preciso de dados para testar o modelo, vou separar os dados que tenho em, aproximadamente, 25% para teste \n",
        "# e 75% para treino. Caso eu treinasse meu modelo com 100% dos dados, nao teria mais dados para testar e, como o \n",
        "# modelo ja conheceria 100% dos dados, qualquer terte que eu fizesse com algum desses dados, seria enviesado.\n",
        "\n",
        "treino_x = x[:75]\n",
        "treino_y = y[:75]\n",
        "\n",
        "teste_x = x[75:]\n",
        "teste_y = y[75:]\n",
        "\n",
        "print(\"Treinaremos com %d elementos e testaremos %d elementos\" % (len(treino_x), len(teste_x)))"
      ],
      "execution_count": 6,
      "outputs": [
        {
          "output_type": "stream",
          "text": [
            "Treinaremos com 75 elementos e testaremos 24 elementos\n"
          ],
          "name": "stdout"
        }
      ]
    },
    {
      "cell_type": "code",
      "metadata": {
        "id": "1zz-GcQo_pZD",
        "colab_type": "code",
        "colab": {
          "base_uri": "https://localhost:8080/",
          "height": 35
        },
        "outputId": "8892bb73-030f-4a8a-f585-acf205e0069a"
      },
      "source": [
        "# importa o modelo LinearSVC do sklearn (svm = support vector machine; svc = support vector classification)\n",
        "# e treina com os dados obtidos. Apos isso, ja podemos fazer nossas previsoes com os itens de teste\n",
        "\n",
        "from sklearn.svm import LinearSVC\n",
        "from sklearn.metrics import accuracy_score\n",
        "\n",
        "modelo = LinearSVC()\n",
        "modelo.fit(treino_x, treino_y)\n",
        "\n",
        "previsoes = modelo.predict(teste_x)\n",
        "\n",
        "acuracia = accuracy_score(teste_y, previsoes) * 100\n",
        "print(\"A acurácia foi de %.2f%%\" % acuracia)"
      ],
      "execution_count": 13,
      "outputs": [
        {
          "output_type": "stream",
          "text": [
            "A acurácia foi de 95.83%\n"
          ],
          "name": "stdout"
        }
      ]
    },
    {
      "cell_type": "markdown",
      "metadata": {
        "id": "wJCbCjJdCDJT",
        "colab_type": "text"
      },
      "source": [
        "# Utilizando o train_test_split e definindo um random seed"
      ]
    },
    {
      "cell_type": "code",
      "metadata": {
        "id": "6P9RWZeRCOp1",
        "colab_type": "code",
        "colab": {
          "base_uri": "https://localhost:8080/",
          "height": 53
        },
        "outputId": "059fd0c1-b8eb-43e3-831a-fb9b41e4746f"
      },
      "source": [
        "# Executa todos os passos ja realizados acima mas utilizando o metodo train_test_split para separar os modelos de teste e treino.\n",
        "# Como o algoritmo do train_test_split utiliza um gerador de numeros aleatorios para fazer a separacao dos itens dos modelos,\n",
        "# precisamos definir um seed e passar esse seed para o metodo train_test_split. Com isso, se garante a mesma separacao em todas as execuções.\n",
        "\n",
        "from sklearn.model_selection import train_test_split\n",
        "from sklearn.svm import LinearSVC\n",
        "from sklearn.metrics import accuracy_score\n",
        "\n",
        "SEED = 20\n",
        "\n",
        "treino_x, teste_x, treino_y, teste_y = train_test_split(x, y, random_state=SEED, test_size=0.25)\n",
        "\n",
        "print(\"Treinaremos com %d elementos e testaremos %d elementos\" % (len(treino_x), len(teste_x)))\n",
        "\n",
        "modelo = LinearSVC()\n",
        "modelo.fit(treino_x, treino_y)\n",
        "previsoes = modelo.predict(teste_x)\n",
        "\n",
        "acuracia = accuracy_score(teste_y, previsoes) * 100\n",
        "\n",
        "print(\"A acurácia foi de %2.f%%\" % acuracia)"
      ],
      "execution_count": 23,
      "outputs": [
        {
          "output_type": "stream",
          "text": [
            "Treinaremos com 74 elementos e testaremos 25 elementos\n",
            "A acurácia foi de 96%\n"
          ],
          "name": "stdout"
        }
      ]
    },
    {
      "cell_type": "markdown",
      "metadata": {
        "id": "oOnab0y3GPL2",
        "colab_type": "text"
      },
      "source": [
        "# Análise da estratificação dos dados"
      ]
    },
    {
      "cell_type": "code",
      "metadata": {
        "id": "tB2M-JvZGSZV",
        "colab_type": "code",
        "colab": {
          "base_uri": "https://localhost:8080/",
          "height": 53
        },
        "outputId": "fac4c679-58c8-4a6b-80b9-b6d0d2d9cab1"
      },
      "source": [
        "# Analisando a estratificação dos dados, verificamos que temos um problema: a quantidade de pessoas que não compraram, nos dados de\n",
        "# treino e teste são muito discrepante. Isso pode trazer um problema pois o modelo pode ser ter aprendido que as pessoas não compram (por\n",
        "# não ter recebido ensinamento de que elas compram) e sempre predizer dessa forma.\n",
        "\n",
        "treino_y.value_counts()\n",
        "\n",
        "print(\"No modelo de treino, %.2f pessoas não compraram para cada 1 que comprou\" % (47/27))\n",
        "\n",
        "teste_y.value_counts()\n",
        "\n",
        "print(\"No modelo de testes, %.2f pessoas não compraram para cada 1 que comprou\" % (19/6))"
      ],
      "execution_count": 31,
      "outputs": [
        {
          "output_type": "stream",
          "text": [
            "No modelo de treino, 1.74 pessoas não compraram para cada 1 que comprou\n",
            "No modelo de testes, 3.17 pessoas não compraram para cada 1 que comprou\n"
          ],
          "name": "stdout"
        }
      ]
    },
    {
      "cell_type": "markdown",
      "metadata": {
        "id": "6SeF-7tXH2jv",
        "colab_type": "text"
      },
      "source": [
        "# Utilizando o parâmetro stratify para estratificar os dados de forma proporcional"
      ]
    },
    {
      "cell_type": "code",
      "metadata": {
        "id": "OAcgaU2wH-WW",
        "colab_type": "code",
        "colab": {
          "base_uri": "https://localhost:8080/",
          "height": 53
        },
        "outputId": "3df04e7f-4bba-4cad-bcff-e5b677dcaef3"
      },
      "source": [
        "# o metodo train_test_split recebe os dados y no parametro stratify para fazer a proporcionalidade na separacao dos dados de treino e teste\n",
        "\n",
        "from sklearn.model_selection import train_test_split\n",
        "from sklearn.svm import LinearSVC\n",
        "from sklearn.metrics import accuracy_score\n",
        "\n",
        "SEED = 20\n",
        "\n",
        "treino_x, teste_x, treino_y, teste_y = train_test_split(x, y, \n",
        "                                                        random_state=SEED, \n",
        "                                                        test_size=0.25,\n",
        "                                                        stratify = y)\n",
        "\n",
        "print(\"Treinaremos com %d elementos e testaremos %d elementos\" % (len(treino_x), len(teste_x)))\n",
        "\n",
        "modelo = LinearSVC()\n",
        "modelo.fit(treino_x, treino_y)\n",
        "previsoes = modelo.predict(teste_x)\n",
        "\n",
        "acuracia = accuracy_score(teste_y, previsoes) * 100\n",
        "\n",
        "print(\"A acurácia foi de %2.f%%\" % acuracia)"
      ],
      "execution_count": 33,
      "outputs": [
        {
          "output_type": "stream",
          "text": [
            "Treinaremos com 74 elementos e testaremos 25 elementos\n",
            "A acurácia foi de 96%\n"
          ],
          "name": "stdout"
        }
      ]
    },
    {
      "cell_type": "code",
      "metadata": {
        "id": "R0SL_qZjIfZ_",
        "colab_type": "code",
        "colab": {
          "base_uri": "https://localhost:8080/",
          "height": 53
        },
        "outputId": "1b1569b7-0811-4348-cb23-a46f6d10d8d7"
      },
      "source": [
        "# fazendo uma nova análise dos dados de treino e testes, podemos ver que a proporção (2 para 1) se mantém entre os dois conjuntos de dados\n",
        "\n",
        "treino_y.value_counts()\n",
        "\n",
        "print(\"No modelo de treino, %.2f pessoas não compraram para cada 1 que comprou\" % (49/25))\n",
        "\n",
        "teste_y.value_counts()\n",
        "\n",
        "print(\"No modelo de testes, %.2f pessoas não compraram para cada 1 que comprou\" % (17/8))"
      ],
      "execution_count": 39,
      "outputs": [
        {
          "output_type": "stream",
          "text": [
            "No modelo de treino, 1.96 pessoas não compraram para cada 1 que comprou\n",
            "No modelo de testes, 2.12 pessoas não compraram para cada 1 que comprou\n"
          ],
          "name": "stdout"
        }
      ]
    }
  ]
}