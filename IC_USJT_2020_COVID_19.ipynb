{
  "nbformat": 4,
  "nbformat_minor": 0,
  "metadata": {
    "colab": {
      "name": "IC_USJT_2020_COVID_19",
      "provenance": [],
      "authorship_tag": "ABX9TyPi0kN8vl4SvkqQUhWg5aIk",
      "include_colab_link": true
    },
    "kernelspec": {
      "name": "python3",
      "display_name": "Python 3"
    }
  },
  "cells": [
    {
      "cell_type": "markdown",
      "metadata": {
        "id": "view-in-github",
        "colab_type": "text"
      },
      "source": [
        "<a href=\"https://colab.research.google.com/github/jonnes-nascimento/machine_learning/blob/master/IC_USJT_2020_COVID_19.ipynb\" target=\"_parent\"><img src=\"https://colab.research.google.com/assets/colab-badge.svg\" alt=\"Open In Colab\"/></a>"
      ]
    },
    {
      "cell_type": "markdown",
      "metadata": {
        "id": "xRrlFiRKi1Cz",
        "colab_type": "text"
      },
      "source": [
        "#Iniciação Científica USJT 2020 - COVID-19 (Brasil)\n"
      ]
    },
    {
      "cell_type": "code",
      "metadata": {
        "id": "uHRXexFgiNvx",
        "colab_type": "code",
        "colab": {
          "base_uri": "https://localhost:8080/",
          "height": 204
        },
        "outputId": "2ea17f71-39a3-41f2-a384-874f10a6499e"
      },
      "source": [
        "import pandas as pd\n",
        "\n",
        "# importando o dataset\n",
        "uri_dados = 'https://gist.githubusercontent.com/jonnes-nascimento/cb2cf5b04eabedc05203c9f7defbdeca/raw/bd47df36becb1ba153b8db6a0f12d97fde656cfc/brazil_covid19.csv'\n",
        "\n",
        "dados = pd.read_csv(uri_dados)\n",
        "#dados = pd.read_csv(uri_dados, parse_dates=['date'], date_parser=lambda x: pd.to_datetime(x, format='%Y/%m/%d'))\n",
        "\n",
        "# renomeando as colunas\n",
        "dados.columns = ['data', 'regiao', 'estado', 'n_casos', 'n_mortes']\n",
        "\n",
        "# converte a coluna data para o tipo datetime\n",
        "dados['data'] = pd.to_datetime(dados['data'], format='%Y-%m-%d')\n",
        "\n",
        "# exibe o tipo de dado de cada coluna do datadrame\n",
        "#dados.dtypes\n",
        "\n",
        "# extrai o mes e ano da data em novas colunas\n",
        "dados['mes'] = pd.DatetimeIndex(dados['data']).month\n",
        "dados['ano'] = pd.DatetimeIndex(dados['data']).year\n",
        "\n",
        "a_substituir = {\n",
        "    1 : 'Janeiro',\n",
        "    2 : 'Fevereiro',\n",
        "    3 : 'Março',\n",
        "    4 : 'Abril',\n",
        "    5 : 'Maio',\n",
        "    6 : 'Junho',\n",
        "    7 : 'Julho',\n",
        "    8 : 'Agosto',\n",
        "    9 : 'Setembro',\n",
        "    10 : 'Outubro',\n",
        "    11 : 'Novembro',\n",
        "    12 : 'Dezembro'\n",
        "}\n",
        "\n",
        "dados['mes_descr'] = dados['mes'].map(a_substituir)\n",
        "\n",
        "# exibe os 5 primeiros registros do dataframe\n",
        "dados.head()"
      ],
      "execution_count": 1,
      "outputs": [
        {
          "output_type": "execute_result",
          "data": {
            "text/html": [
              "<div>\n",
              "<style scoped>\n",
              "    .dataframe tbody tr th:only-of-type {\n",
              "        vertical-align: middle;\n",
              "    }\n",
              "\n",
              "    .dataframe tbody tr th {\n",
              "        vertical-align: top;\n",
              "    }\n",
              "\n",
              "    .dataframe thead th {\n",
              "        text-align: right;\n",
              "    }\n",
              "</style>\n",
              "<table border=\"1\" class=\"dataframe\">\n",
              "  <thead>\n",
              "    <tr style=\"text-align: right;\">\n",
              "      <th></th>\n",
              "      <th>data</th>\n",
              "      <th>regiao</th>\n",
              "      <th>estado</th>\n",
              "      <th>n_casos</th>\n",
              "      <th>n_mortes</th>\n",
              "      <th>mes</th>\n",
              "      <th>ano</th>\n",
              "      <th>mes_descr</th>\n",
              "    </tr>\n",
              "  </thead>\n",
              "  <tbody>\n",
              "    <tr>\n",
              "      <th>0</th>\n",
              "      <td>2020-01-30</td>\n",
              "      <td>Centro-Oeste</td>\n",
              "      <td>Distrito Federal</td>\n",
              "      <td>0</td>\n",
              "      <td>0</td>\n",
              "      <td>1</td>\n",
              "      <td>2020</td>\n",
              "      <td>Janeiro</td>\n",
              "    </tr>\n",
              "    <tr>\n",
              "      <th>1</th>\n",
              "      <td>2020-01-30</td>\n",
              "      <td>Centro-Oeste</td>\n",
              "      <td>Goiás</td>\n",
              "      <td>0</td>\n",
              "      <td>0</td>\n",
              "      <td>1</td>\n",
              "      <td>2020</td>\n",
              "      <td>Janeiro</td>\n",
              "    </tr>\n",
              "    <tr>\n",
              "      <th>2</th>\n",
              "      <td>2020-01-30</td>\n",
              "      <td>Centro-Oeste</td>\n",
              "      <td>Mato Grosso</td>\n",
              "      <td>0</td>\n",
              "      <td>0</td>\n",
              "      <td>1</td>\n",
              "      <td>2020</td>\n",
              "      <td>Janeiro</td>\n",
              "    </tr>\n",
              "    <tr>\n",
              "      <th>3</th>\n",
              "      <td>2020-01-30</td>\n",
              "      <td>Centro-Oeste</td>\n",
              "      <td>Mato Grosso do Sul</td>\n",
              "      <td>0</td>\n",
              "      <td>0</td>\n",
              "      <td>1</td>\n",
              "      <td>2020</td>\n",
              "      <td>Janeiro</td>\n",
              "    </tr>\n",
              "    <tr>\n",
              "      <th>4</th>\n",
              "      <td>2020-01-30</td>\n",
              "      <td>Nordeste</td>\n",
              "      <td>Alagoas</td>\n",
              "      <td>0</td>\n",
              "      <td>0</td>\n",
              "      <td>1</td>\n",
              "      <td>2020</td>\n",
              "      <td>Janeiro</td>\n",
              "    </tr>\n",
              "  </tbody>\n",
              "</table>\n",
              "</div>"
            ],
            "text/plain": [
              "        data        regiao              estado  ...  mes   ano  mes_descr\n",
              "0 2020-01-30  Centro-Oeste    Distrito Federal  ...    1  2020    Janeiro\n",
              "1 2020-01-30  Centro-Oeste               Goiás  ...    1  2020    Janeiro\n",
              "2 2020-01-30  Centro-Oeste         Mato Grosso  ...    1  2020    Janeiro\n",
              "3 2020-01-30  Centro-Oeste  Mato Grosso do Sul  ...    1  2020    Janeiro\n",
              "4 2020-01-30      Nordeste             Alagoas  ...    1  2020    Janeiro\n",
              "\n",
              "[5 rows x 8 columns]"
            ]
          },
          "metadata": {
            "tags": []
          },
          "execution_count": 1
        }
      ]
    },
    {
      "cell_type": "code",
      "metadata": {
        "id": "CFpxBXCPjF4j",
        "colab_type": "code",
        "colab": {
          "base_uri": "https://localhost:8080/",
          "height": 824
        },
        "outputId": "e3c24535-1d43-4f3a-c24b-5f2a72fd31b9"
      },
      "source": [
        "# agrupando os dados e analisando a quantidade de casos por por mês, ano e por região\n",
        "casos_regiao_mes = dados.groupby(['regiao', 'mes_descr', 'mes', 'ano'], as_index=False)['n_casos'].sum()\n",
        "\n",
        "# agrupando os dados e analisando a quantidade de mortes por por mês, ano e por região\n",
        "mortes_regiao_mes = dados.groupby(['regiao', 'mes_descr', 'mes', 'ano'], as_index=False)['n_mortes'].sum()\n",
        "mortes_regiao_mes.sort_values('mes')"
      ],
      "execution_count": 2,
      "outputs": [
        {
          "output_type": "execute_result",
          "data": {
            "text/html": [
              "<div>\n",
              "<style scoped>\n",
              "    .dataframe tbody tr th:only-of-type {\n",
              "        vertical-align: middle;\n",
              "    }\n",
              "\n",
              "    .dataframe tbody tr th {\n",
              "        vertical-align: top;\n",
              "    }\n",
              "\n",
              "    .dataframe thead th {\n",
              "        text-align: right;\n",
              "    }\n",
              "</style>\n",
              "<table border=\"1\" class=\"dataframe\">\n",
              "  <thead>\n",
              "    <tr style=\"text-align: right;\">\n",
              "      <th></th>\n",
              "      <th>regiao</th>\n",
              "      <th>mes_descr</th>\n",
              "      <th>mes</th>\n",
              "      <th>ano</th>\n",
              "      <th>n_mortes</th>\n",
              "    </tr>\n",
              "  </thead>\n",
              "  <tbody>\n",
              "    <tr>\n",
              "      <th>12</th>\n",
              "      <td>Norte</td>\n",
              "      <td>Janeiro</td>\n",
              "      <td>1</td>\n",
              "      <td>2020</td>\n",
              "      <td>0</td>\n",
              "    </tr>\n",
              "    <tr>\n",
              "      <th>2</th>\n",
              "      <td>Centro-Oeste</td>\n",
              "      <td>Janeiro</td>\n",
              "      <td>1</td>\n",
              "      <td>2020</td>\n",
              "      <td>0</td>\n",
              "    </tr>\n",
              "    <tr>\n",
              "      <th>22</th>\n",
              "      <td>Sul</td>\n",
              "      <td>Janeiro</td>\n",
              "      <td>1</td>\n",
              "      <td>2020</td>\n",
              "      <td>0</td>\n",
              "    </tr>\n",
              "    <tr>\n",
              "      <th>7</th>\n",
              "      <td>Nordeste</td>\n",
              "      <td>Janeiro</td>\n",
              "      <td>1</td>\n",
              "      <td>2020</td>\n",
              "      <td>0</td>\n",
              "    </tr>\n",
              "    <tr>\n",
              "      <th>17</th>\n",
              "      <td>Sudeste</td>\n",
              "      <td>Janeiro</td>\n",
              "      <td>1</td>\n",
              "      <td>2020</td>\n",
              "      <td>0</td>\n",
              "    </tr>\n",
              "    <tr>\n",
              "      <th>1</th>\n",
              "      <td>Centro-Oeste</td>\n",
              "      <td>Fevereiro</td>\n",
              "      <td>2</td>\n",
              "      <td>2020</td>\n",
              "      <td>0</td>\n",
              "    </tr>\n",
              "    <tr>\n",
              "      <th>21</th>\n",
              "      <td>Sul</td>\n",
              "      <td>Fevereiro</td>\n",
              "      <td>2</td>\n",
              "      <td>2020</td>\n",
              "      <td>0</td>\n",
              "    </tr>\n",
              "    <tr>\n",
              "      <th>6</th>\n",
              "      <td>Nordeste</td>\n",
              "      <td>Fevereiro</td>\n",
              "      <td>2</td>\n",
              "      <td>2020</td>\n",
              "      <td>0</td>\n",
              "    </tr>\n",
              "    <tr>\n",
              "      <th>16</th>\n",
              "      <td>Sudeste</td>\n",
              "      <td>Fevereiro</td>\n",
              "      <td>2</td>\n",
              "      <td>2020</td>\n",
              "      <td>0</td>\n",
              "    </tr>\n",
              "    <tr>\n",
              "      <th>11</th>\n",
              "      <td>Norte</td>\n",
              "      <td>Fevereiro</td>\n",
              "      <td>2</td>\n",
              "      <td>2020</td>\n",
              "      <td>0</td>\n",
              "    </tr>\n",
              "    <tr>\n",
              "      <th>19</th>\n",
              "      <td>Sudeste</td>\n",
              "      <td>Março</td>\n",
              "      <td>3</td>\n",
              "      <td>2020</td>\n",
              "      <td>849</td>\n",
              "    </tr>\n",
              "    <tr>\n",
              "      <th>14</th>\n",
              "      <td>Norte</td>\n",
              "      <td>Março</td>\n",
              "      <td>3</td>\n",
              "      <td>2020</td>\n",
              "      <td>10</td>\n",
              "    </tr>\n",
              "    <tr>\n",
              "      <th>24</th>\n",
              "      <td>Sul</td>\n",
              "      <td>Março</td>\n",
              "      <td>3</td>\n",
              "      <td>2020</td>\n",
              "      <td>34</td>\n",
              "    </tr>\n",
              "    <tr>\n",
              "      <th>9</th>\n",
              "      <td>Nordeste</td>\n",
              "      <td>Março</td>\n",
              "      <td>3</td>\n",
              "      <td>2020</td>\n",
              "      <td>76</td>\n",
              "    </tr>\n",
              "    <tr>\n",
              "      <th>4</th>\n",
              "      <td>Centro-Oeste</td>\n",
              "      <td>Março</td>\n",
              "      <td>3</td>\n",
              "      <td>2020</td>\n",
              "      <td>12</td>\n",
              "    </tr>\n",
              "    <tr>\n",
              "      <th>10</th>\n",
              "      <td>Norte</td>\n",
              "      <td>Abril</td>\n",
              "      <td>4</td>\n",
              "      <td>2020</td>\n",
              "      <td>6304</td>\n",
              "    </tr>\n",
              "    <tr>\n",
              "      <th>15</th>\n",
              "      <td>Sudeste</td>\n",
              "      <td>Abril</td>\n",
              "      <td>4</td>\n",
              "      <td>2020</td>\n",
              "      <td>40033</td>\n",
              "    </tr>\n",
              "    <tr>\n",
              "      <th>5</th>\n",
              "      <td>Nordeste</td>\n",
              "      <td>Abril</td>\n",
              "      <td>4</td>\n",
              "      <td>2020</td>\n",
              "      <td>15777</td>\n",
              "    </tr>\n",
              "    <tr>\n",
              "      <th>20</th>\n",
              "      <td>Sul</td>\n",
              "      <td>Abril</td>\n",
              "      <td>4</td>\n",
              "      <td>2020</td>\n",
              "      <td>2632</td>\n",
              "    </tr>\n",
              "    <tr>\n",
              "      <th>0</th>\n",
              "      <td>Centro-Oeste</td>\n",
              "      <td>Abril</td>\n",
              "      <td>4</td>\n",
              "      <td>2020</td>\n",
              "      <td>1258</td>\n",
              "    </tr>\n",
              "    <tr>\n",
              "      <th>13</th>\n",
              "      <td>Norte</td>\n",
              "      <td>Maio</td>\n",
              "      <td>5</td>\n",
              "      <td>2020</td>\n",
              "      <td>6099</td>\n",
              "    </tr>\n",
              "    <tr>\n",
              "      <th>8</th>\n",
              "      <td>Nordeste</td>\n",
              "      <td>Maio</td>\n",
              "      <td>5</td>\n",
              "      <td>2020</td>\n",
              "      <td>12084</td>\n",
              "    </tr>\n",
              "    <tr>\n",
              "      <th>18</th>\n",
              "      <td>Sudeste</td>\n",
              "      <td>Maio</td>\n",
              "      <td>5</td>\n",
              "      <td>2020</td>\n",
              "      <td>23836</td>\n",
              "    </tr>\n",
              "    <tr>\n",
              "      <th>3</th>\n",
              "      <td>Centro-Oeste</td>\n",
              "      <td>Maio</td>\n",
              "      <td>5</td>\n",
              "      <td>2020</td>\n",
              "      <td>528</td>\n",
              "    </tr>\n",
              "    <tr>\n",
              "      <th>23</th>\n",
              "      <td>Sul</td>\n",
              "      <td>Maio</td>\n",
              "      <td>5</td>\n",
              "      <td>2020</td>\n",
              "      <td>1309</td>\n",
              "    </tr>\n",
              "  </tbody>\n",
              "</table>\n",
              "</div>"
            ],
            "text/plain": [
              "          regiao  mes_descr  mes   ano  n_mortes\n",
              "12         Norte    Janeiro    1  2020         0\n",
              "2   Centro-Oeste    Janeiro    1  2020         0\n",
              "22           Sul    Janeiro    1  2020         0\n",
              "7       Nordeste    Janeiro    1  2020         0\n",
              "17       Sudeste    Janeiro    1  2020         0\n",
              "1   Centro-Oeste  Fevereiro    2  2020         0\n",
              "21           Sul  Fevereiro    2  2020         0\n",
              "6       Nordeste  Fevereiro    2  2020         0\n",
              "16       Sudeste  Fevereiro    2  2020         0\n",
              "11         Norte  Fevereiro    2  2020         0\n",
              "19       Sudeste      Março    3  2020       849\n",
              "14         Norte      Março    3  2020        10\n",
              "24           Sul      Março    3  2020        34\n",
              "9       Nordeste      Março    3  2020        76\n",
              "4   Centro-Oeste      Março    3  2020        12\n",
              "10         Norte      Abril    4  2020      6304\n",
              "15       Sudeste      Abril    4  2020     40033\n",
              "5       Nordeste      Abril    4  2020     15777\n",
              "20           Sul      Abril    4  2020      2632\n",
              "0   Centro-Oeste      Abril    4  2020      1258\n",
              "13         Norte       Maio    5  2020      6099\n",
              "8       Nordeste       Maio    5  2020     12084\n",
              "18       Sudeste       Maio    5  2020     23836\n",
              "3   Centro-Oeste       Maio    5  2020       528\n",
              "23           Sul       Maio    5  2020      1309"
            ]
          },
          "metadata": {
            "tags": []
          },
          "execution_count": 2
        }
      ]
    },
    {
      "cell_type": "code",
      "metadata": {
        "id": "h631l0StCrf1",
        "colab_type": "code",
        "colab": {
          "base_uri": "https://localhost:8080/",
          "height": 570
        },
        "outputId": "d343c9b7-d726-4b4b-fde9-2a6ec4ae1869"
      },
      "source": [
        "# análise gráfica da quantidade de casos por região, mês e ano\n",
        "casos_regiao_mes.pivot(index = 'regiao', columns='mes', values='n_casos').plot(kind='bar', stacked=True, figsize=(15,8))"
      ],
      "execution_count": 9,
      "outputs": [
        {
          "output_type": "execute_result",
          "data": {
            "text/plain": [
              "<matplotlib.axes._subplots.AxesSubplot at 0x7f56e1439c50>"
            ]
          },
          "metadata": {
            "tags": []
          },
          "execution_count": 9
        },
        {
          "output_type": "display_data",
          "data": {
            "image/png": "[encoded data removed]",
            "text/plain": [
              "<Figure size 1080x576 with 1 Axes>"
            ]
          },
          "metadata": {
            "tags": [],
            "needs_background": "light"
          }
        }
      ]
    },
    {
      "cell_type": "code",
      "metadata": {
        "id": "cqVxsH0YUx0T",
        "colab_type": "code",
        "colab": {}
      },
      "source": [
        ""
      ],
      "execution_count": 0,
      "outputs": []
    },
    {
      "cell_type": "code",
      "metadata": {
        "id": "95axbNIGwSA0",
        "colab_type": "code",
        "colab": {
          "base_uri": "https://localhost:8080/",
          "height": 34
        },
        "outputId": "2543bce4-7bbe-4550-8131-53ac6e49922b"
      },
      "source": [
        "print('Número de casos: %d' % dados['n_casos'].sum())"
      ],
      "execution_count": 4,
      "outputs": [
        {
          "output_type": "stream",
          "text": [
            "Número de casos: 1711605\n"
          ],
          "name": "stdout"
        }
      ]
    },
    {
      "cell_type": "code",
      "metadata": {
        "id": "pjY7QAtX9O3K",
        "colab_type": "code",
        "colab": {
          "base_uri": "https://localhost:8080/",
          "height": 570
        },
        "outputId": "f18d3093-8eb4-4ab6-dacc-bbfa4c6ae8fb"
      },
      "source": [
        "# análise gráfica da quantidade de mortes por região, mês e ano\n",
        "mortes_regiao_mes.pivot(index = 'regiao', columns='mes', values='n_mortes').plot(kind='bar', stacked=True, figsize=(15,8))"
      ],
      "execution_count": 10,
      "outputs": [
        {
          "output_type": "execute_result",
          "data": {
            "text/plain": [
              "<matplotlib.axes._subplots.AxesSubplot at 0x7f56e1388d68>"
            ]
          },
          "metadata": {
            "tags": []
          },
          "execution_count": 10
        },
        {
          "output_type": "display_data",
          "data": {
            "image/png": "[encoded data removed]",
            "text/plain": [
              "<Figure size 1080x576 with 1 Axes>"
            ]
          },
          "metadata": {
            "tags": [],
            "needs_background": "light"
          }
        }
      ]
    },
    {
      "cell_type": "code",
      "metadata": {
        "id": "k8RnkdKpN8Z0",
        "colab_type": "code",
        "colab": {
          "base_uri": "https://localhost:8080/",
          "height": 34
        },
        "outputId": "2e0e4f84-98c5-4bd8-9dcc-94f0775ac0cf"
      },
      "source": [
        "print('Número de mortes: %d' % dados['n_mortes'].sum())"
      ],
      "execution_count": 6,
      "outputs": [
        {
          "output_type": "stream",
          "text": [
            "Número de mortes: 110841\n"
          ],
          "name": "stdout"
        }
      ]
    },
    {
      "cell_type": "code",
      "metadata": {
        "id": "i2MjbLAJQQRm",
        "colab_type": "code",
        "colab": {
          "base_uri": "https://localhost:8080/",
          "height": 606
        },
        "outputId": "02b3f1f0-b4d6-4dc3-b47c-93b7e625fc54"
      },
      "source": [
        "casos_estado_mes = dados.groupby(['estado', 'mes_descr', 'mes', 'ano'], as_index=False)['n_casos'].sum()\n",
        "casos_estado_mes.pivot(index = 'estado', columns='mes', values='n_casos').plot(kind='bar', stacked=True, figsize=(15,8))"
      ],
      "execution_count": 11,
      "outputs": [
        {
          "output_type": "execute_result",
          "data": {
            "text/plain": [
              "<matplotlib.axes._subplots.AxesSubplot at 0x7f56e155d978>"
            ]
          },
          "metadata": {
            "tags": []
          },
          "execution_count": 11
        },
        {
          "output_type": "display_data",
          "data": {
            "image/png": "[encoded data removed]",
            "text/plain": [
              "<Figure size 1080x576 with 1 Axes>"
            ]
          },
          "metadata": {
            "tags": [],
            "needs_background": "light"
          }
        }
      ]
    },
    {
      "cell_type": "code",
      "metadata": {
        "id": "6BVdM_inT09y",
        "colab_type": "code",
        "colab": {}
      },
      "source": [
        ""
      ],
      "execution_count": 0,
      "outputs": []
    }
  ]
}