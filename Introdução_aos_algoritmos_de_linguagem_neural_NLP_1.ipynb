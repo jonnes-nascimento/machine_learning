{
  "nbformat": 4,
  "nbformat_minor": 0,
  "metadata": {
    "colab": {
      "name": "Introdução aos algoritmos de linguagem neural - NLP - 1",
      "provenance": [],
      "toc_visible": true,
      "authorship_tag": "ABX9TyMGqrt0lVQlRmwAm0dHGuWa",
      "include_colab_link": true
    },
    "kernelspec": {
      "name": "python3",
      "display_name": "Python 3"
    }
  },
  "cells": [
    {
      "cell_type": "markdown",
      "metadata": {
        "id": "view-in-github",
        "colab_type": "text"
      },
      "source": [
        "<a href=\"https://colab.research.google.com/github/jonnes-nascimento/machine_learning/blob/master/Introdu%C3%A7%C3%A3o_aos_algoritmos_de_linguagem_neural_NLP_1.ipynb\" target=\"_parent\"><img src=\"https://colab.research.google.com/assets/colab-badge.svg\" alt=\"Open In Colab\"/></a>"
      ]
    },
    {
      "cell_type": "markdown",
      "metadata": {
        "id": "JBMv2qwOH1Ps",
        "colab_type": "text"
      },
      "source": [
        "# Importando a base de dados do IMDB"
      ]
    },
    {
      "cell_type": "code",
      "metadata": {
        "id": "orh_X2KTDVUB",
        "colab_type": "code",
        "colab": {
          "base_uri": "https://localhost:8080/",
          "height": 442
        },
        "outputId": "a7d72937-60f9-46e1-efec-372d930fe5e9"
      },
      "source": [
        "from google.colab import drive\n",
        "import pandas as pd\n",
        "\n",
        "# monta a pasta do Google Drive que contém o arquivo com os dados de análise\n",
        "drive.mount(\"/content/drive\")\n",
        "\n",
        "resenha = pd.read_csv(\"/content/drive/My Drive/Colab Notebooks/imdb-reviews-pt-br.csv\")\n",
        "\n",
        "resenha"
      ],
      "execution_count": 5,
      "outputs": [
        {
          "output_type": "stream",
          "text": [
            "Drive already mounted at /content/drive; to attempt to forcibly remount, call drive.mount(\"/content/drive\", force_remount=True).\n"
          ],
          "name": "stdout"
        },
        {
          "output_type": "execute_result",
          "data": {
            "text/html": [
              "<div>\n",
              "<style scoped>\n",
              "    .dataframe tbody tr th:only-of-type {\n",
              "        vertical-align: middle;\n",
              "    }\n",
              "\n",
              "    .dataframe tbody tr th {\n",
              "        vertical-align: top;\n",
              "    }\n",
              "\n",
              "    .dataframe thead th {\n",
              "        text-align: right;\n",
              "    }\n",
              "</style>\n",
              "<table border=\"1\" class=\"dataframe\">\n",
              "  <thead>\n",
              "    <tr style=\"text-align: right;\">\n",
              "      <th></th>\n",
              "      <th>id</th>\n",
              "      <th>text_en</th>\n",
              "      <th>text_pt</th>\n",
              "      <th>sentiment</th>\n",
              "    </tr>\n",
              "  </thead>\n",
              "  <tbody>\n",
              "    <tr>\n",
              "      <th>0</th>\n",
              "      <td>1</td>\n",
              "      <td>Once again Mr. Costner has dragged out a movie...</td>\n",
              "      <td>Mais uma vez, o Sr. Costner arrumou um filme p...</td>\n",
              "      <td>neg</td>\n",
              "    </tr>\n",
              "    <tr>\n",
              "      <th>1</th>\n",
              "      <td>2</td>\n",
              "      <td>This is an example of why the majority of acti...</td>\n",
              "      <td>Este é um exemplo do motivo pelo qual a maiori...</td>\n",
              "      <td>neg</td>\n",
              "    </tr>\n",
              "    <tr>\n",
              "      <th>2</th>\n",
              "      <td>3</td>\n",
              "      <td>First of all I hate those moronic rappers, who...</td>\n",
              "      <td>Primeiro de tudo eu odeio esses raps imbecis, ...</td>\n",
              "      <td>neg</td>\n",
              "    </tr>\n",
              "    <tr>\n",
              "      <th>3</th>\n",
              "      <td>4</td>\n",
              "      <td>Not even the Beatles could write songs everyon...</td>\n",
              "      <td>Nem mesmo os Beatles puderam escrever músicas ...</td>\n",
              "      <td>neg</td>\n",
              "    </tr>\n",
              "    <tr>\n",
              "      <th>4</th>\n",
              "      <td>5</td>\n",
              "      <td>Brass pictures movies is not a fitting word fo...</td>\n",
              "      <td>Filmes de fotos de latão não é uma palavra apr...</td>\n",
              "      <td>neg</td>\n",
              "    </tr>\n",
              "    <tr>\n",
              "      <th>...</th>\n",
              "      <td>...</td>\n",
              "      <td>...</td>\n",
              "      <td>...</td>\n",
              "      <td>...</td>\n",
              "    </tr>\n",
              "    <tr>\n",
              "      <th>49454</th>\n",
              "      <td>49456</td>\n",
              "      <td>Seeing as the vote average was pretty low, and...</td>\n",
              "      <td>Como a média de votos era muito baixa, e o fat...</td>\n",
              "      <td>pos</td>\n",
              "    </tr>\n",
              "    <tr>\n",
              "      <th>49455</th>\n",
              "      <td>49457</td>\n",
              "      <td>The plot had some wretched, unbelievable twist...</td>\n",
              "      <td>O enredo teve algumas reviravoltas infelizes e...</td>\n",
              "      <td>pos</td>\n",
              "    </tr>\n",
              "    <tr>\n",
              "      <th>49456</th>\n",
              "      <td>49458</td>\n",
              "      <td>I am amazed at how this movieand most others h...</td>\n",
              "      <td>Estou espantado com a forma como este filme e ...</td>\n",
              "      <td>pos</td>\n",
              "    </tr>\n",
              "    <tr>\n",
              "      <th>49457</th>\n",
              "      <td>49459</td>\n",
              "      <td>A Christmas Together actually came before my t...</td>\n",
              "      <td>A Christmas Together realmente veio antes do m...</td>\n",
              "      <td>pos</td>\n",
              "    </tr>\n",
              "    <tr>\n",
              "      <th>49458</th>\n",
              "      <td>49460</td>\n",
              "      <td>Working-class romantic drama from director Mar...</td>\n",
              "      <td>O drama romântico da classe trabalhadora do di...</td>\n",
              "      <td>pos</td>\n",
              "    </tr>\n",
              "  </tbody>\n",
              "</table>\n",
              "<p>49459 rows × 4 columns</p>\n",
              "</div>"
            ],
            "text/plain": [
              "          id  ... sentiment\n",
              "0          1  ...       neg\n",
              "1          2  ...       neg\n",
              "2          3  ...       neg\n",
              "3          4  ...       neg\n",
              "4          5  ...       neg\n",
              "...      ...  ...       ...\n",
              "49454  49456  ...       pos\n",
              "49455  49457  ...       pos\n",
              "49456  49458  ...       pos\n",
              "49457  49459  ...       pos\n",
              "49458  49460  ...       pos\n",
              "\n",
              "[49459 rows x 4 columns]"
            ]
          },
          "metadata": {
            "tags": []
          },
          "execution_count": 5
        }
      ]
    },
    {
      "cell_type": "markdown",
      "metadata": {
        "id": "4tr_VaHAKJLK",
        "colab_type": "text"
      },
      "source": [
        "# Separando os dados da resenha para treino e teste"
      ]
    },
    {
      "cell_type": "code",
      "metadata": {
        "id": "7ZfgLeImH6eS",
        "colab_type": "code",
        "colab": {}
      },
      "source": [
        "from sklearn.model_selection import train_test_split\n",
        "\n",
        "treino, teste, classe_treino, classe_teste = train_test_split(resenha.text_pt, resenha.sentiment, random_state = 42)"
      ],
      "execution_count": 0,
      "outputs": []
    },
    {
      "cell_type": "markdown",
      "metadata": {
        "id": "gD8sZOGvKSy2",
        "colab_type": "text"
      },
      "source": [
        "# Treinamento e classificação"
      ]
    },
    {
      "cell_type": "code",
      "metadata": {
        "id": "6p3b3sHeO8Om",
        "colab_type": "code",
        "colab": {
          "base_uri": "https://localhost:8080/",
          "height": 273
        },
        "outputId": "ef42eb0b-f92d-487c-d6d8-d452209088b1"
      },
      "source": [
        "# analisando dois casos\n",
        "\n",
        "print(\"Negativo\\n\")\n",
        "print(resenha.text_pt[189])\n",
        "print(\"\\n\")\n",
        "\n",
        "print(\"Positivo\\n\")\n",
        "print(resenha.text_pt[49002])\n",
        "print(\"\\n\")\n",
        "\n",
        "# É importante termos os dados balanceados. No nosso caso, por exemplo, temos que nos certificar de termos dados positivos e negativos balanceados\n",
        "print(resenha.sentiment.value_counts())"
      ],
      "execution_count": 17,
      "outputs": [
        {
          "output_type": "stream",
          "text": [
            "Negativo\n",
            "\n",
            "Este é sem dúvida o pior filme que eu já vi. E acredite em mim, eu vi muitos filmes. A reviravolta inacreditável que o filme faz - passando de um extremamente mau filme \"Formas de vida alienígenas habitam a terra\", com um filme que tenta espalhar um arquicristiano \"O dia do julgamento está próximo, buscar Jesus ou queimar por toda a eternidade em as dívidas ardentes do inferno \"mensagem - deixou-me atordoado depois de ter sido atormentado por 85 minutos. Até mesmo os cristãos religiosos devem se envergonhar ou ficar furiosos ao ver suas crenças postadas dessa maneira. Eu não sabia o que fazer comigo quando assisti a atuação horrível que poderia ter sido realizada por crianças de 7 anos de idade. Simplesmente repugnante. Eu não sou cristão nem muito religioso. Mas se eu estivesse, não teria mais medo do Inferno. Rich Christiano mostrou ser algo muito pior.\n",
            "\n",
            "\n",
            "Positivo\n",
            "\n",
            "Crescendo em Nova York no final dos anos 80 e início dos anos 90, posso dizer pessoalmente que este é um dos documentários mais importantes feitos para cobrir esse lugar neste período de tempo. Não Madonna não veio com a idéia de Voguing, mas é de onde ela tirou! Em vez de combater a violência uns dos outros ou em brigas de gato, o voguing permitia que as pessoas \"lutassem\" dentro dos confins de tudo, menos que tocassem umas às outras, o que justificaria uma desqualificação automática. Vendo este tipo de extraordinariamente talentosas / bem orquestradas \"jogadas\" nos clubes foi nada menos do que espetacular e todos os grandes nomes de antigamente estão aqui ... Pepper La Beija, Paris Duprée, Xtragavaganza, etc. ..tudo comemorado nos gostos de peças de época como a música de Malcom McLarens \"Deep in Vogue\" ... não importava quem você era, ou de onde você era porque quando você passava por aquelas portas nesse \"reino mágico\" de De certa forma, você se tornou parte de algo maior que você / você era importante / e, o mais importante, a criação de seus próprios movimentos e imaginação ... e qualquer pessoa de qualquer lugar poderia se tornar Rei ou Rainha como poderia ter sido. As palavras e inteligência eram tão afiadas quanto os movimentos no chão. Toda a tensão, excitação e magia dessa energia urbana de NYC é capturada neste filme. BRILHANTE!!! POR FAVOR, LIBERE EM DVD para o mundo ver !!! Obrigado!\n",
            "\n",
            "\n",
            "neg    24765\n",
            "pos    24694\n",
            "Name: sentiment, dtype: int64\n"
          ],
          "name": "stdout"
        }
      ]
    },
    {
      "cell_type": "code",
      "metadata": {
        "id": "tsGeAVLjQ-pL",
        "colab_type": "code",
        "colab": {
          "base_uri": "https://localhost:8080/",
          "height": 424
        },
        "outputId": "c0d7c95e-32b0-48b2-f0a3-bca580b0e339"
      },
      "source": [
        "# padronizando as classes dos dados\n",
        "\n",
        "classificacao = resenha[\"sentiment\"].replace([\"neg\", \"pos\"], [0, 1])\n",
        "resenha[\"classificacao\"] = classificacao\n",
        "\n",
        "resenha"
      ],
      "execution_count": 20,
      "outputs": [
        {
          "output_type": "execute_result",
          "data": {
            "text/html": [
              "<div>\n",
              "<style scoped>\n",
              "    .dataframe tbody tr th:only-of-type {\n",
              "        vertical-align: middle;\n",
              "    }\n",
              "\n",
              "    .dataframe tbody tr th {\n",
              "        vertical-align: top;\n",
              "    }\n",
              "\n",
              "    .dataframe thead th {\n",
              "        text-align: right;\n",
              "    }\n",
              "</style>\n",
              "<table border=\"1\" class=\"dataframe\">\n",
              "  <thead>\n",
              "    <tr style=\"text-align: right;\">\n",
              "      <th></th>\n",
              "      <th>id</th>\n",
              "      <th>text_en</th>\n",
              "      <th>text_pt</th>\n",
              "      <th>sentiment</th>\n",
              "      <th>classificacao</th>\n",
              "    </tr>\n",
              "  </thead>\n",
              "  <tbody>\n",
              "    <tr>\n",
              "      <th>0</th>\n",
              "      <td>1</td>\n",
              "      <td>Once again Mr. Costner has dragged out a movie...</td>\n",
              "      <td>Mais uma vez, o Sr. Costner arrumou um filme p...</td>\n",
              "      <td>neg</td>\n",
              "      <td>0</td>\n",
              "    </tr>\n",
              "    <tr>\n",
              "      <th>1</th>\n",
              "      <td>2</td>\n",
              "      <td>This is an example of why the majority of acti...</td>\n",
              "      <td>Este é um exemplo do motivo pelo qual a maiori...</td>\n",
              "      <td>neg</td>\n",
              "      <td>0</td>\n",
              "    </tr>\n",
              "    <tr>\n",
              "      <th>2</th>\n",
              "      <td>3</td>\n",
              "      <td>First of all I hate those moronic rappers, who...</td>\n",
              "      <td>Primeiro de tudo eu odeio esses raps imbecis, ...</td>\n",
              "      <td>neg</td>\n",
              "      <td>0</td>\n",
              "    </tr>\n",
              "    <tr>\n",
              "      <th>3</th>\n",
              "      <td>4</td>\n",
              "      <td>Not even the Beatles could write songs everyon...</td>\n",
              "      <td>Nem mesmo os Beatles puderam escrever músicas ...</td>\n",
              "      <td>neg</td>\n",
              "      <td>0</td>\n",
              "    </tr>\n",
              "    <tr>\n",
              "      <th>4</th>\n",
              "      <td>5</td>\n",
              "      <td>Brass pictures movies is not a fitting word fo...</td>\n",
              "      <td>Filmes de fotos de latão não é uma palavra apr...</td>\n",
              "      <td>neg</td>\n",
              "      <td>0</td>\n",
              "    </tr>\n",
              "    <tr>\n",
              "      <th>...</th>\n",
              "      <td>...</td>\n",
              "      <td>...</td>\n",
              "      <td>...</td>\n",
              "      <td>...</td>\n",
              "      <td>...</td>\n",
              "    </tr>\n",
              "    <tr>\n",
              "      <th>49454</th>\n",
              "      <td>49456</td>\n",
              "      <td>Seeing as the vote average was pretty low, and...</td>\n",
              "      <td>Como a média de votos era muito baixa, e o fat...</td>\n",
              "      <td>pos</td>\n",
              "      <td>1</td>\n",
              "    </tr>\n",
              "    <tr>\n",
              "      <th>49455</th>\n",
              "      <td>49457</td>\n",
              "      <td>The plot had some wretched, unbelievable twist...</td>\n",
              "      <td>O enredo teve algumas reviravoltas infelizes e...</td>\n",
              "      <td>pos</td>\n",
              "      <td>1</td>\n",
              "    </tr>\n",
              "    <tr>\n",
              "      <th>49456</th>\n",
              "      <td>49458</td>\n",
              "      <td>I am amazed at how this movieand most others h...</td>\n",
              "      <td>Estou espantado com a forma como este filme e ...</td>\n",
              "      <td>pos</td>\n",
              "      <td>1</td>\n",
              "    </tr>\n",
              "    <tr>\n",
              "      <th>49457</th>\n",
              "      <td>49459</td>\n",
              "      <td>A Christmas Together actually came before my t...</td>\n",
              "      <td>A Christmas Together realmente veio antes do m...</td>\n",
              "      <td>pos</td>\n",
              "      <td>1</td>\n",
              "    </tr>\n",
              "    <tr>\n",
              "      <th>49458</th>\n",
              "      <td>49460</td>\n",
              "      <td>Working-class romantic drama from director Mar...</td>\n",
              "      <td>O drama romântico da classe trabalhadora do di...</td>\n",
              "      <td>pos</td>\n",
              "      <td>1</td>\n",
              "    </tr>\n",
              "  </tbody>\n",
              "</table>\n",
              "<p>49459 rows × 5 columns</p>\n",
              "</div>"
            ],
            "text/plain": [
              "          id  ... classificacao\n",
              "0          1  ...             0\n",
              "1          2  ...             0\n",
              "2          3  ...             0\n",
              "3          4  ...             0\n",
              "4          5  ...             0\n",
              "...      ...  ...           ...\n",
              "49454  49456  ...             1\n",
              "49455  49457  ...             1\n",
              "49456  49458  ...             1\n",
              "49457  49459  ...             1\n",
              "49458  49460  ...             1\n",
              "\n",
              "[49459 rows x 5 columns]"
            ]
          },
          "metadata": {
            "tags": []
          },
          "execution_count": 20
        }
      ]
    },
    {
      "cell_type": "code",
      "metadata": {
        "id": "a4mbc0gFihfO",
        "colab_type": "code",
        "colab": {
          "base_uri": "https://localhost:8080/",
          "height": 130
        },
        "outputId": "a5878a8d-ad1c-4aea-95cd-d54ae8ae33bd"
      },
      "source": [
        "from sklearn.feature_extraction.text import CountVectorizer\n",
        "\n",
        "texto = [\"Assisti a um filme ótimo\", \"Assisti a um filme ruim\"]\n",
        "\n",
        "vetorizar = CountVectorizer(lowercase=False)\n",
        "\n",
        "bag_of_words = vetorizar.fit_transform(texto)\n",
        "\n",
        "# exibe o vocabulario criado\n",
        "print(vetorizar.get_feature_names())\n",
        "\n",
        "# gerando um dataframe da matriz esparsa criada pelo CountVectorizer\n",
        "matriz_esparsa = pd.DataFrame.sparse.from_spmatrix(data=bag_of_words, columns=vetorizar.get_feature_names())\n",
        "\n",
        "matriz_esparsa"
      ],
      "execution_count": 43,
      "outputs": [
        {
          "output_type": "stream",
          "text": [
            "['Assisti', 'filme', 'ruim', 'um', 'ótimo']\n"
          ],
          "name": "stdout"
        },
        {
          "output_type": "execute_result",
          "data": {
            "text/html": [
              "<div>\n",
              "<style scoped>\n",
              "    .dataframe tbody tr th:only-of-type {\n",
              "        vertical-align: middle;\n",
              "    }\n",
              "\n",
              "    .dataframe tbody tr th {\n",
              "        vertical-align: top;\n",
              "    }\n",
              "\n",
              "    .dataframe thead th {\n",
              "        text-align: right;\n",
              "    }\n",
              "</style>\n",
              "<table border=\"1\" class=\"dataframe\">\n",
              "  <thead>\n",
              "    <tr style=\"text-align: right;\">\n",
              "      <th></th>\n",
              "      <th>Assisti</th>\n",
              "      <th>filme</th>\n",
              "      <th>ruim</th>\n",
              "      <th>um</th>\n",
              "      <th>ótimo</th>\n",
              "    </tr>\n",
              "  </thead>\n",
              "  <tbody>\n",
              "    <tr>\n",
              "      <th>0</th>\n",
              "      <td>1</td>\n",
              "      <td>1</td>\n",
              "      <td>0</td>\n",
              "      <td>1</td>\n",
              "      <td>1</td>\n",
              "    </tr>\n",
              "    <tr>\n",
              "      <th>1</th>\n",
              "      <td>1</td>\n",
              "      <td>1</td>\n",
              "      <td>1</td>\n",
              "      <td>1</td>\n",
              "      <td>0</td>\n",
              "    </tr>\n",
              "  </tbody>\n",
              "</table>\n",
              "</div>"
            ],
            "text/plain": [
              "   Assisti  filme  ruim  um  ótimo\n",
              "0        1      1     0   1      1\n",
              "1        1      1     1   1      0"
            ]
          },
          "metadata": {
            "tags": []
          },
          "execution_count": 43
        }
      ]
    },
    {
      "cell_type": "code",
      "metadata": {
        "id": "9mKAxWug6a8u",
        "colab_type": "code",
        "colab": {
          "base_uri": "https://localhost:8080/",
          "height": 35
        },
        "outputId": "cadef0a8-d3ba-4c8f-ffb4-f08fae136b33"
      },
      "source": [
        "# limitando a quantidade de features no bag of words (50 palavras)\n",
        "vetorizar = CountVectorizer(lowercase=False, max_features=50)\n",
        "\n",
        "bag_of_words = vetorizar.fit_transform(resenha.text_pt)\n",
        "\n",
        "print(bag_of_words.shape)"
      ],
      "execution_count": 40,
      "outputs": [
        {
          "output_type": "stream",
          "text": [
            "(49459, 50)\n"
          ],
          "name": "stdout"
        }
      ]
    },
    {
      "cell_type": "code",
      "metadata": {
        "id": "jxoq4tuSK0xG",
        "colab_type": "code",
        "colab": {
          "base_uri": "https://localhost:8080/",
          "height": 35
        },
        "outputId": "08d753c2-13d3-4814-b046-c9a14922c31c"
      },
      "source": [
        "from sklearn.linear_model import LogisticRegression\n",
        "\n",
        "# separando (segregando) os dados\n",
        "treino, teste, classe_treino, classe_teste = train_test_split(bag_of_words, \n",
        "                                                              resenha.classificacao, \n",
        "                                                              random_state = 42)\n",
        "\n",
        "regressao_logistica = LogisticRegression()\n",
        "regressao_logistica.fit(treino, classe_treino)\n",
        "\n",
        "acuracia = regressao_logistica.score(teste, classe_teste)\n",
        "\n",
        "print(acuracia)"
      ],
      "execution_count": 41,
      "outputs": [
        {
          "output_type": "stream",
          "text": [
            "0.6583097452486858\n"
          ],
          "name": "stdout"
        }
      ]
    },
    {
      "cell_type": "code",
      "metadata": {
        "id": "oRa-BUd3LUA-",
        "colab_type": "code",
        "colab": {
          "base_uri": "https://localhost:8080/",
          "height": 35
        },
        "outputId": "ee3a8989-ad33-4fb6-c3d4-3e45192706a7"
      },
      "source": [
        "# criando uma funcao para se obter a acuracia dos dados de teste e de treino\n",
        "\n",
        "def classificar_texto(texto, coluna_texto, coluna_classificacao):\n",
        "\n",
        "  vetorizar = CountVectorizer(lowercase=False, max_features=50)\n",
        "  bag_of_words = vetorizar.fit_transform(texto[coluna_texto])\n",
        "\n",
        "  treino, teste, classe_treino, classe_teste = train_test_split(bag_of_words, \n",
        "                                                              texto[coluna_classificacao], \n",
        "                                                              random_state = 42)\n",
        "  \n",
        "  regressao_logistica = LogisticRegression()\n",
        "  regressao_logistica.fit(treino, classe_treino)\n",
        "\n",
        "  return regressao_logistica.score(teste, classe_teste)\n",
        "\n",
        "print(classificar_texto(resenha, \"text_pt\", \"classificacao\"))\n"
      ],
      "execution_count": 42,
      "outputs": [
        {
          "output_type": "stream",
          "text": [
            "0.6583097452486858\n"
          ],
          "name": "stdout"
        }
      ]
    }
  ]
}