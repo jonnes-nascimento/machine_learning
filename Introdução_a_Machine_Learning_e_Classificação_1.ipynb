{
  "nbformat": 4,
  "nbformat_minor": 0,
  "metadata": {
    "colab": {
      "name": "Introdução a Machine Learning e Classificação - 1",
      "provenance": [],
      "authorship_tag": "ABX9TyOPD6dPo7Pa8JucKIQKT+E/",
      "include_colab_link": true
    },
    "kernelspec": {
      "name": "python3",
      "display_name": "Python 3"
    }
  },
  "cells": [
    {
      "cell_type": "markdown",
      "metadata": {
        "id": "view-in-github",
        "colab_type": "text"
      },
      "source": [
        "<a href=\"https://colab.research.google.com/github/jonnes-nascimento/machine_learning/blob/master/Introdu%C3%A7%C3%A3o_a_Machine_Learning_e_Classifica%C3%A7%C3%A3o_1.ipynb\" target=\"_parent\"><img src=\"https://colab.research.google.com/assets/colab-badge.svg\" alt=\"Open In Colab\"/></a>"
      ]
    },
    {
      "cell_type": "code",
      "metadata": {
        "id": "2PPtxr9DOwy9",
        "colab_type": "code",
        "colab": {}
      },
      "source": [
        "# lista de variaveis de teste e suas feaures\n",
        "# features (1 = sim; 0 = nao)\n",
        "# pelo longo / perna curta / faz auau\n",
        "\n",
        "porco1 = [0, 1, 0]\n",
        "porco2 = [0, 1, 1] # sempre ha uma excecao :)\n",
        "porco3 = [1, 1, 0]\n",
        "\n",
        "cachorro1 = [0, 1, 1]\n",
        "cachorro2 = [1, 0, 1]\n",
        "cachorro3 = [1, 1, 1]"
      ],
      "execution_count": 0,
      "outputs": []
    },
    {
      "cell_type": "code",
      "metadata": {
        "id": "dSGpqv0D7P7P",
        "colab_type": "code",
        "colab": {}
      },
      "source": [
        "# variaveis de treino\n",
        "# nosso modelo e tratado como um modelo matematico. Por isso, f(x) = y, onde:\n",
        "# 1 = porco; 0 = cachorro\n",
        "\n",
        "train_x = [porco1, porco2, porco3, cachorro1, cachorro2, cachorro3]\n",
        "train_y = [1, 1, 1, 0, 0, 0] # labels (definem o modelo \"supervisionado\" - as labels dizem o que e cada item)"
      ],
      "execution_count": 0,
      "outputs": []
    },
    {
      "cell_type": "code",
      "metadata": {
        "id": "_lQ-2OrT79B_",
        "colab_type": "code",
        "outputId": "b4b008a9-c3df-49e3-c830-ebf10a3de79d",
        "colab": {
          "base_uri": "https://localhost:8080/",
          "height": 90
        }
      },
      "source": [
        "from sklearn.svm import LinearSVC # svm = support vector machine (contem os metodos de aprendizado supervisionados); svc = support vector cassification\n",
        "\n",
        "model = LinearSVC()\n",
        "model.fit(train_x, train_y) # passa os vetores com as features e as labels para treinar o modelo"
      ],
      "execution_count": 0,
      "outputs": [
        {
          "output_type": "execute_result",
          "data": {
            "text/plain": [
              "LinearSVC(C=1.0, class_weight=None, dual=True, fit_intercept=True,\n",
              "          intercept_scaling=1, loss='squared_hinge', max_iter=1000,\n",
              "          multi_class='ovr', penalty='l2', random_state=None, tol=0.0001,\n",
              "          verbose=0)"
            ]
          },
          "metadata": {
            "tags": []
          },
          "execution_count": 3
        }
      ]
    },
    {
      "cell_type": "code",
      "metadata": {
        "id": "2b7uwY5z9FsV",
        "colab_type": "code",
        "colab": {}
      },
      "source": [
        "# variaveis dss quais quero descobrir algo\n",
        "# pelo longo / perna curta / faz auau\n",
        "\n",
        "misterio1 = [1, 1, 1]\n",
        "misterio2 = [1, 1, 0]\n",
        "misterio3 = [0, 1, 1] # aqui, novamente, um porco que faz auau XP\n",
        "\n",
        "test_x = [misterio1, misterio2, misterio3]\n",
        "\n",
        "# 1 = porco; 0 = cachorro\n",
        "test_y = [0, 1, 1]"
      ],
      "execution_count": 0,
      "outputs": []
    },
    {
      "cell_type": "code",
      "metadata": {
        "id": "6zFUjxC8-KwG",
        "colab_type": "code",
        "outputId": "e0559fb6-4e86-4e4e-d3e6-6d085d173642",
        "colab": {
          "base_uri": "https://localhost:8080/",
          "height": 35
        }
      },
      "source": [
        "# passo o test_x para o modelo fazer uma previsao com base no que ele aprendeu acima\n",
        "\n",
        "previsoes = model.predict(test_x)\n",
        "print(previsoes)"
      ],
      "execution_count": 0,
      "outputs": [
        {
          "output_type": "stream",
          "text": [
            "[0 1 0]\n"
          ],
          "name": "stdout"
        }
      ]
    },
    {
      "cell_type": "code",
      "metadata": {
        "id": "iSB7p_7t-mwd",
        "colab_type": "code",
        "outputId": "23207919-875a-4189-d40a-56f666d4f8c4",
        "colab": {
          "base_uri": "https://localhost:8080/",
          "height": 35
        }
      },
      "source": [
        "# aqui, verifico manualmente qual foi a taxa e acerto do modelo, tomando por base minhas predicoes em test_y\n",
        "\n",
        "corretos = (previsoes == test_y).sum() # compara um a um os itens dos dois vetores e acumula a quantidade de itens iguais\n",
        "total = len(test_x)\n",
        "\n",
        "taxa_acerto = corretos / total\n",
        "\n",
        "print(\"Taxa de acerto: %.2f%%\" % (taxa_acerto * 100))"
      ],
      "execution_count": 0,
      "outputs": [
        {
          "output_type": "stream",
          "text": [
            "Taxa de acerto: 66.67%\n"
          ],
          "name": "stdout"
        }
      ]
    },
    {
      "cell_type": "code",
      "metadata": {
        "id": "DQx53PPu_oUm",
        "colab_type": "code",
        "outputId": "220eeac3-4acf-44de-cece-3836b64690a8",
        "colab": {
          "base_uri": "https://localhost:8080/",
          "height": 35
        }
      },
      "source": [
        "# aqui, verifico a taxa de acerto do modelo usando as funcoes do modulo \"metrics\" do sklearn\n",
        "\n",
        "from sklearn.metrics import accuracy_score\n",
        "\n",
        "taxa_acerto = accuracy_score(test_y, previsoes)\n",
        "\n",
        "print(\"Taxa de acerto: %.2f%%\" % (taxa_acerto * 100))"
      ],
      "execution_count": 0,
      "outputs": [
        {
          "output_type": "stream",
          "text": [
            "Taxa de acerto: 66.67%\n"
          ],
          "name": "stdout"
        }
      ]
    }
  ]
}